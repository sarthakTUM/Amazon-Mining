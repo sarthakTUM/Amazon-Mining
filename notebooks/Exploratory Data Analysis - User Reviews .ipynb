{
 "cells": [
  {
   "cell_type": "markdown",
   "metadata": {},
   "source": [
    "# Exploratory Data Analysis - User Reviews"
   ]
  },
  {
   "cell_type": "code",
   "execution_count": null,
   "metadata": {
    "collapsed": true
   },
   "outputs": [],
   "source": [
    "%matplotlib inline\n",
    "import matplotlib.pyplot as plt\n",
    "import plotly.plotly as py\n",
    "plotly.tools.set_credentials_file(username='aamnanajmi', api_key='qh51CvyNnvU1t8TfIy93')\n",
    "import plotly.figure_factory as ff"
   ]
  },
  {
   "cell_type": "markdown",
   "metadata": {},
   "source": [
    "# Data Loading"
   ]
  },
  {
   "cell_type": "code",
   "execution_count": 19,
   "metadata": {
    "collapsed": true
   },
   "outputs": [],
   "source": [
    "import sys\n",
    "project_path = \"/home/aamna/Documents/apc/Amazon-Mining\"\n",
    "# make sure to use position 1\n",
    "sys.path.insert(1, project_path)"
   ]
  },
  {
   "cell_type": "code",
   "execution_count": 20,
   "metadata": {},
   "outputs": [],
   "source": [
    "from src.data.json_loader import JSONLoader"
   ]
  },
  {
   "cell_type": "code",
   "execution_count": 21,
   "metadata": {
    "collapsed": true
   },
   "outputs": [],
   "source": [
    "# file_path corresponds to the file of the .gz file which contains the JSON file. \n",
    "file_path = '/home/aamna/Documents/apc/reviews_Electronics_5.json.gz'\n",
    "loader = JSONLoader()"
   ]
  },
  {
   "cell_type": "code",
   "execution_count": 22,
   "metadata": {
    "collapsed": true
   },
   "outputs": [],
   "source": [
    "data = loader.load_data(file_path)"
   ]
  },
  {
   "cell_type": "markdown",
   "metadata": {},
   "source": [
    "# Exploration"
   ]
  },
  {
   "cell_type": "code",
   "execution_count": 23,
   "metadata": {},
   "outputs": [
    {
     "data": {
      "text/html": [
       "<div>\n",
       "<style scoped>\n",
       "    .dataframe tbody tr th:only-of-type {\n",
       "        vertical-align: middle;\n",
       "    }\n",
       "\n",
       "    .dataframe tbody tr th {\n",
       "        vertical-align: top;\n",
       "    }\n",
       "\n",
       "    .dataframe thead th {\n",
       "        text-align: right;\n",
       "    }\n",
       "</style>\n",
       "<table border=\"1\" class=\"dataframe\">\n",
       "  <thead>\n",
       "    <tr style=\"text-align: right;\">\n",
       "      <th></th>\n",
       "      <th>reviewTime</th>\n",
       "      <th>reviewerID</th>\n",
       "      <th>reviewerName</th>\n",
       "      <th>helpful</th>\n",
       "      <th>reviewText</th>\n",
       "      <th>asin</th>\n",
       "      <th>unixReviewTime</th>\n",
       "      <th>overall</th>\n",
       "      <th>summary</th>\n",
       "    </tr>\n",
       "  </thead>\n",
       "  <tbody>\n",
       "    <tr>\n",
       "      <th>0</th>\n",
       "      <td>06 2, 2013</td>\n",
       "      <td>AO94DHGC771SJ</td>\n",
       "      <td>amazdnu</td>\n",
       "      <td>[0, 0]</td>\n",
       "      <td>We got this GPS for my husband who is an (OTR)...</td>\n",
       "      <td>0528881469</td>\n",
       "      <td>1370131200</td>\n",
       "      <td>5.0</td>\n",
       "      <td>Gotta have GPS!</td>\n",
       "    </tr>\n",
       "    <tr>\n",
       "      <th>1</th>\n",
       "      <td>11 25, 2010</td>\n",
       "      <td>AMO214LNFCEI4</td>\n",
       "      <td>Amazon Customer</td>\n",
       "      <td>[12, 15]</td>\n",
       "      <td>I'm a professional OTR truck driver, and I bou...</td>\n",
       "      <td>0528881469</td>\n",
       "      <td>1290643200</td>\n",
       "      <td>1.0</td>\n",
       "      <td>Very Disappointed</td>\n",
       "    </tr>\n",
       "    <tr>\n",
       "      <th>2</th>\n",
       "      <td>09 9, 2010</td>\n",
       "      <td>A3N7T0DY83Y4IG</td>\n",
       "      <td>C. A. Freeman</td>\n",
       "      <td>[43, 45]</td>\n",
       "      <td>Well, what can I say.  I've had this unit in m...</td>\n",
       "      <td>0528881469</td>\n",
       "      <td>1283990400</td>\n",
       "      <td>3.0</td>\n",
       "      <td>1st impression</td>\n",
       "    </tr>\n",
       "    <tr>\n",
       "      <th>3</th>\n",
       "      <td>11 24, 2010</td>\n",
       "      <td>A1H8PY3QHMQQA0</td>\n",
       "      <td>Dave M. Shaw \"mack dave\"</td>\n",
       "      <td>[9, 10]</td>\n",
       "      <td>Not going to write a long review, even thought...</td>\n",
       "      <td>0528881469</td>\n",
       "      <td>1290556800</td>\n",
       "      <td>2.0</td>\n",
       "      <td>Great grafics, POOR GPS</td>\n",
       "    </tr>\n",
       "    <tr>\n",
       "      <th>4</th>\n",
       "      <td>09 29, 2011</td>\n",
       "      <td>A24EV6RXELQZ63</td>\n",
       "      <td>Wayne Smith</td>\n",
       "      <td>[0, 0]</td>\n",
       "      <td>I've had mine for a year and here's what we go...</td>\n",
       "      <td>0528881469</td>\n",
       "      <td>1317254400</td>\n",
       "      <td>1.0</td>\n",
       "      <td>Major issues, only excuses for support</td>\n",
       "    </tr>\n",
       "  </tbody>\n",
       "</table>\n",
       "</div>"
      ],
      "text/plain": [
       "    reviewTime      reviewerID              reviewerName   helpful  \\\n",
       "0   06 2, 2013   AO94DHGC771SJ                   amazdnu    [0, 0]   \n",
       "1  11 25, 2010   AMO214LNFCEI4           Amazon Customer  [12, 15]   \n",
       "2   09 9, 2010  A3N7T0DY83Y4IG             C. A. Freeman  [43, 45]   \n",
       "3  11 24, 2010  A1H8PY3QHMQQA0  Dave M. Shaw \"mack dave\"   [9, 10]   \n",
       "4  09 29, 2011  A24EV6RXELQZ63               Wayne Smith    [0, 0]   \n",
       "\n",
       "                                          reviewText        asin  \\\n",
       "0  We got this GPS for my husband who is an (OTR)...  0528881469   \n",
       "1  I'm a professional OTR truck driver, and I bou...  0528881469   \n",
       "2  Well, what can I say.  I've had this unit in m...  0528881469   \n",
       "3  Not going to write a long review, even thought...  0528881469   \n",
       "4  I've had mine for a year and here's what we go...  0528881469   \n",
       "\n",
       "   unixReviewTime  overall                                 summary  \n",
       "0      1370131200      5.0                         Gotta have GPS!  \n",
       "1      1290643200      1.0                       Very Disappointed  \n",
       "2      1283990400      3.0                          1st impression  \n",
       "3      1290556800      2.0                 Great grafics, POOR GPS  \n",
       "4      1317254400      1.0  Major issues, only excuses for support  "
      ]
     },
     "execution_count": 23,
     "metadata": {},
     "output_type": "execute_result"
    }
   ],
   "source": [
    "data.head()"
   ]
  },
  {
   "cell_type": "code",
   "execution_count": 12,
   "metadata": {},
   "outputs": [
    {
     "data": {
      "text/html": [
       "<div>\n",
       "<style scoped>\n",
       "    .dataframe tbody tr th:only-of-type {\n",
       "        vertical-align: middle;\n",
       "    }\n",
       "\n",
       "    .dataframe tbody tr th {\n",
       "        vertical-align: top;\n",
       "    }\n",
       "\n",
       "    .dataframe thead th {\n",
       "        text-align: right;\n",
       "    }\n",
       "</style>\n",
       "<table border=\"1\" class=\"dataframe\">\n",
       "  <thead>\n",
       "    <tr style=\"text-align: right;\">\n",
       "      <th></th>\n",
       "      <th>reviewTime</th>\n",
       "      <th>reviewerID</th>\n",
       "      <th>reviewerName</th>\n",
       "      <th>helpful</th>\n",
       "      <th>reviewText</th>\n",
       "      <th>asin</th>\n",
       "      <th>unixReviewTime</th>\n",
       "      <th>overall</th>\n",
       "      <th>summary</th>\n",
       "    </tr>\n",
       "  </thead>\n",
       "  <tbody>\n",
       "    <tr>\n",
       "      <th>1689183</th>\n",
       "      <td>07 17, 2014</td>\n",
       "      <td>A34BZM6S9L7QI4</td>\n",
       "      <td>Candy Cane \"Is it just me?\"</td>\n",
       "      <td>[1, 1]</td>\n",
       "      <td>Burned these in before listening to them for a...</td>\n",
       "      <td>B00LGQ6HL8</td>\n",
       "      <td>1405555200</td>\n",
       "      <td>5.0</td>\n",
       "      <td>Boom -- Pop -- Pow.  These deliver.</td>\n",
       "    </tr>\n",
       "    <tr>\n",
       "      <th>1689184</th>\n",
       "      <td>07 15, 2014</td>\n",
       "      <td>A1G650TTTHEAL5</td>\n",
       "      <td>Charles Spanky \"Zumina Reviews\"</td>\n",
       "      <td>[0, 0]</td>\n",
       "      <td>Some people like DJ style headphones or earbud...</td>\n",
       "      <td>B00LGQ6HL8</td>\n",
       "      <td>1405382400</td>\n",
       "      <td>5.0</td>\n",
       "      <td>Thin and light, without compromising on sound ...</td>\n",
       "    </tr>\n",
       "    <tr>\n",
       "      <th>1689185</th>\n",
       "      <td>07 17, 2014</td>\n",
       "      <td>A25C2M3QF9G7OQ</td>\n",
       "      <td>Comdet</td>\n",
       "      <td>[0, 0]</td>\n",
       "      <td>I&amp;#8217;m a big fan of the Brainwavz S1 (actua...</td>\n",
       "      <td>B00LGQ6HL8</td>\n",
       "      <td>1405555200</td>\n",
       "      <td>5.0</td>\n",
       "      <td>Same form factor and durability as the S1 with...</td>\n",
       "    </tr>\n",
       "    <tr>\n",
       "      <th>1689186</th>\n",
       "      <td>07 18, 2014</td>\n",
       "      <td>A1E1LEVQ9VQNK</td>\n",
       "      <td>J. Chambers</td>\n",
       "      <td>[0, 0]</td>\n",
       "      <td>I've used theBrainwavz S1 In Ear Headphones, a...</td>\n",
       "      <td>B00LGQ6HL8</td>\n",
       "      <td>1405641600</td>\n",
       "      <td>5.0</td>\n",
       "      <td>Superb audio quality in a very comfortable set...</td>\n",
       "    </tr>\n",
       "    <tr>\n",
       "      <th>1689187</th>\n",
       "      <td>07 13, 2014</td>\n",
       "      <td>A2NYK9KWFMJV4Y</td>\n",
       "      <td>Mike Tarrani \"Jazz Drummer\"</td>\n",
       "      <td>[0, 0]</td>\n",
       "      <td>Normally when I receive a review sample I can ...</td>\n",
       "      <td>B00LGQ6HL8</td>\n",
       "      <td>1405209600</td>\n",
       "      <td>5.0</td>\n",
       "      <td>Exceptional sound</td>\n",
       "    </tr>\n",
       "  </tbody>\n",
       "</table>\n",
       "</div>"
      ],
      "text/plain": [
       "          reviewTime      reviewerID                     reviewerName helpful  \\\n",
       "1689183  07 17, 2014  A34BZM6S9L7QI4      Candy Cane \"Is it just me?\"  [1, 1]   \n",
       "1689184  07 15, 2014  A1G650TTTHEAL5  Charles Spanky \"Zumina Reviews\"  [0, 0]   \n",
       "1689185  07 17, 2014  A25C2M3QF9G7OQ                           Comdet  [0, 0]   \n",
       "1689186  07 18, 2014   A1E1LEVQ9VQNK                      J. Chambers  [0, 0]   \n",
       "1689187  07 13, 2014  A2NYK9KWFMJV4Y      Mike Tarrani \"Jazz Drummer\"  [0, 0]   \n",
       "\n",
       "                                                reviewText        asin  \\\n",
       "1689183  Burned these in before listening to them for a...  B00LGQ6HL8   \n",
       "1689184  Some people like DJ style headphones or earbud...  B00LGQ6HL8   \n",
       "1689185  I&#8217;m a big fan of the Brainwavz S1 (actua...  B00LGQ6HL8   \n",
       "1689186  I've used theBrainwavz S1 In Ear Headphones, a...  B00LGQ6HL8   \n",
       "1689187  Normally when I receive a review sample I can ...  B00LGQ6HL8   \n",
       "\n",
       "         unixReviewTime  overall  \\\n",
       "1689183      1405555200      5.0   \n",
       "1689184      1405382400      5.0   \n",
       "1689185      1405555200      5.0   \n",
       "1689186      1405641600      5.0   \n",
       "1689187      1405209600      5.0   \n",
       "\n",
       "                                                   summary  \n",
       "1689183                Boom -- Pop -- Pow.  These deliver.  \n",
       "1689184  Thin and light, without compromising on sound ...  \n",
       "1689185  Same form factor and durability as the S1 with...  \n",
       "1689186  Superb audio quality in a very comfortable set...  \n",
       "1689187                                  Exceptional sound  "
      ]
     },
     "execution_count": 12,
     "metadata": {},
     "output_type": "execute_result"
    }
   ],
   "source": [
    "data.tail()"
   ]
  },
  {
   "cell_type": "code",
   "execution_count": 13,
   "metadata": {},
   "outputs": [
    {
     "data": {
      "text/plain": [
       "(1689188, 9)"
      ]
     },
     "execution_count": 13,
     "metadata": {},
     "output_type": "execute_result"
    }
   ],
   "source": [
    "data.shape"
   ]
  },
  {
   "cell_type": "code",
   "execution_count": 16,
   "metadata": {
    "scrolled": true
   },
   "outputs": [
    {
     "data": {
      "text/plain": [
       "<matplotlib.axes._subplots.AxesSubplot at 0x7f60c65227b8>"
      ]
     },
     "execution_count": 16,
     "metadata": {},
     "output_type": "execute_result"
    },
    {
     "data": {
      "image/png": "[encoded data removed]",
      "text/plain": [
       "<matplotlib.figure.Figure at 0x7f60fc5caf98>"
      ]
     },
     "metadata": {},
     "output_type": "display_data"
    }
   ],
   "source": [
    "data.overall.value_counts().plot(kind='bar')"
   ]
  },
  {
   "cell_type": "code",
   "execution_count": 30,
   "metadata": {},
   "outputs": [],
   "source": [
    "review_table = ff.create_table(data.head())\n",
    "py.iplot(review_table, filename='review_table')\n",
    "url=py.plot(review_table, filename='review_table',auto_open=False)"
   ]
  },
  {
   "cell_type": "code",
   "execution_count": 31,
   "metadata": {},
   "outputs": [
    {
     "data": {
      "text/plain": [
       "'https://plot.ly/~aamnanajmi/2'"
      ]
     },
     "execution_count": 31,
     "metadata": {},
     "output_type": "execute_result"
    }
   ],
   "source": [
    "url"
   ]
  }
 ],
 "metadata": {
  "kernelspec": {
   "display_name": "Python 3",
   "language": "python",
   "name": "python3"
  },
  "language_info": {
   "codemirror_mode": {
    "name": "ipython",
    "version": 3
   },
   "file_extension": ".py",
   "mimetype": "text/x-python",
   "name": "python",
   "nbconvert_exporter": "python",
   "pygments_lexer": "ipython3",
   "version": "3.5.2"
  }
 },
 "nbformat": 4,
 "nbformat_minor": 2
}
