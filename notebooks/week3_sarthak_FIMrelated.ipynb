{
 "cells": [
  {
   "cell_type": "markdown",
   "metadata": {},
   "source": [
    "# Performs Frequent Itemset Mining on different relations defined in 'related_to' feature of the product dataset"
   ]
  },
  {
   "cell_type": "markdown",
   "metadata": {},
   "source": [
    "## Imports"
   ]
  },
  {
   "cell_type": "code",
   "execution_count": 9,
   "metadata": {
    "collapsed": true
   },
   "outputs": [],
   "source": [
    "import sys\n",
    "project_path = \"/media/sarthak/HDD/TUM/courses/sem 3/practical DM/Amazon-Mining\"\n",
    "project_path = \"D:\\\\TUM\\\\courses\\\\sem 3\\\\practical DM\\\\Amazon-Mining\"\n",
    "# make sure to use position 1\n",
    "sys.path.insert(1, project_path)"
   ]
  },
  {
   "cell_type": "code",
   "execution_count": 10,
   "metadata": {
    "collapsed": false
   },
   "outputs": [],
   "source": [
    "%matplotlib inline\n",
    "import matplotlib.pyplot as plt\n",
    "import numpy as np\n",
    "from collections import defaultdict\n",
    "import itertools\n",
    "import pandas as pd\n",
    "import _pickle as cPickle\n",
    "from pandas import DataFrame\n",
    "from src.model import apriori\n",
    "from pandas import Series"
   ]
  },
  {
   "cell_type": "markdown",
   "metadata": {},
   "source": [
    "# Function definitions"
   ]
  },
  {
   "cell_type": "code",
   "execution_count": 11,
   "metadata": {
    "collapsed": true
   },
   "outputs": [],
   "source": [
    "def flatten(l):\n",
    "    return [item for sublist in l for item in sublist]"
   ]
  },
  {
   "cell_type": "code",
   "execution_count": 12,
   "metadata": {
    "collapsed": true
   },
   "outputs": [],
   "source": [
    "def get_cat(l):\n",
    "    return l[1]"
   ]
  },
  {
   "cell_type": "markdown",
   "metadata": {},
   "source": [
    "## These 4 different functions are basically copies with different 'related_to' relation. These can be merged into a single function"
   ]
  },
  {
   "cell_type": "code",
   "execution_count": 13,
   "metadata": {
    "collapsed": true
   },
   "outputs": [],
   "source": [
    "def find_cat_ab(col):\n",
    "    categories_without_none = []\n",
    "    if not pd.isnull(col[7]):\n",
    "        asins = col[7].get('also_bought')\n",
    "        if asins:\n",
    "            categories = [asin_cat_dict.get(asin) for asin in asins]\n",
    "            categories_without_none = [x for x in categories if x is not None]\n",
    "            categories_without_none.append(asin_cat_dict.get(col[0]))\n",
    "    return categories_without_none"
   ]
  },
  {
   "cell_type": "code",
   "execution_count": 14,
   "metadata": {
    "collapsed": true
   },
   "outputs": [],
   "source": [
    "def find_cat_bt(col):\n",
    "    categories_without_none = []\n",
    "    if not pd.isnull(col[7]):\n",
    "        asins = col[7].get('bought_together')\n",
    "        if asins:\n",
    "            categories = [asin_cat_dict.get(asin) for asin in asins]\n",
    "            categories_without_none = [x for x in categories if x is not None]\n",
    "            categories_without_none.append(asin_cat_dict.get(col[0]))\n",
    "    return categories_without_none"
   ]
  },
  {
   "cell_type": "code",
   "execution_count": 15,
   "metadata": {
    "collapsed": true
   },
   "outputs": [],
   "source": [
    "def find_cat_av(col):\n",
    "    categories_without_none = []\n",
    "    if not pd.isnull(col[7]):\n",
    "        asins = col[7].get('also_viewed')\n",
    "        if asins:\n",
    "            categories = [asin_cat_dict.get(asin) for asin in asins]\n",
    "            categories_without_none = [x for x in categories if x is not None]\n",
    "            categories_without_none.append(asin_cat_dict.get(col[0]))\n",
    "    return categories_without_none"
   ]
  },
  {
   "cell_type": "code",
   "execution_count": 16,
   "metadata": {
    "collapsed": true
   },
   "outputs": [],
   "source": [
    "def find_cat_bav(col):\n",
    "    categories_without_none = []\n",
    "    if not pd.isnull(col[7]):\n",
    "        asins = col[7].get('buy_after_viewing')\n",
    "        if asins:\n",
    "            categories = [asin_cat_dict.get(asin) for asin in asins]\n",
    "            categories_without_none = [x for x in categories if x is not None]\n",
    "            categories_without_none.append(asin_cat_dict.get(col[0]))\n",
    "    return categories_without_none"
   ]
  },
  {
   "cell_type": "markdown",
   "metadata": {},
   "source": [
    "# data loading"
   ]
  },
  {
   "cell_type": "code",
   "execution_count": 19,
   "metadata": {
    "collapsed": false
   },
   "outputs": [],
   "source": [
    "from src.data.json_loader import JSONLoader\n",
    "# file_path corresponds to the file of the .gz file which contains the JSON file. \n",
    "# product_path = '/media/sarthak/HDD/TUM/courses/sem 3/practical DM/datasets/meta_Electronics.json.gz'\n",
    "product_path = 'D:\\\\TUM\\\\courses\\\\sem 3\\\\practical DM\\\\datasets\\\\meta_Electronics.json.gz'\n",
    "loader = JSONLoader()\n",
    "product = loader.load_data(product_path)"
   ]
  },
  {
   "cell_type": "code",
   "execution_count": 20,
   "metadata": {
    "collapsed": true
   },
   "outputs": [],
   "source": [
    "product.categories = product.categories.apply(flatten)\n",
    "product.categories = product.categories.apply(get_cat)\n",
    "\n",
    "# code that did the magic of running in sub-seconds complexity.\n",
    "asin_cat_dict = Series(product.categories.values,index=product.asin).to_dict()"
   ]
  },
  {
   "cell_type": "code",
   "execution_count": 21,
   "metadata": {
    "collapsed": false
   },
   "outputs": [
    {
     "data": {
      "text/html": [
       "<div>\n",
       "<table border=\"1\" class=\"dataframe\">\n",
       "  <thead>\n",
       "    <tr style=\"text-align: right;\">\n",
       "      <th></th>\n",
       "      <th>asin</th>\n",
       "      <th>imUrl</th>\n",
       "      <th>description</th>\n",
       "      <th>categories</th>\n",
       "      <th>title</th>\n",
       "      <th>price</th>\n",
       "      <th>salesRank</th>\n",
       "      <th>related</th>\n",
       "      <th>brand</th>\n",
       "    </tr>\n",
       "  </thead>\n",
       "  <tbody>\n",
       "    <tr>\n",
       "      <th>0</th>\n",
       "      <td>0132793040</td>\n",
       "      <td>http://ecx.images-amazon.com/images/I/31JIPhp%...</td>\n",
       "      <td>The Kelby Training DVD Mastering Blend Modes i...</td>\n",
       "      <td>Computers &amp; Accessories</td>\n",
       "      <td>Kelby Training DVD: Mastering Blend Modes in A...</td>\n",
       "      <td>NaN</td>\n",
       "      <td>NaN</td>\n",
       "      <td>NaN</td>\n",
       "      <td>NaN</td>\n",
       "    </tr>\n",
       "    <tr>\n",
       "      <th>1</th>\n",
       "      <td>0321732944</td>\n",
       "      <td>http://ecx.images-amazon.com/images/I/31uogm6Y...</td>\n",
       "      <td>NaN</td>\n",
       "      <td>Computers &amp; Accessories</td>\n",
       "      <td>Kelby Training DVD: Adobe Photoshop CS5 Crash ...</td>\n",
       "      <td>NaN</td>\n",
       "      <td>NaN</td>\n",
       "      <td>NaN</td>\n",
       "      <td>NaN</td>\n",
       "    </tr>\n",
       "    <tr>\n",
       "      <th>2</th>\n",
       "      <td>0439886341</td>\n",
       "      <td>http://ecx.images-amazon.com/images/I/51k0qa8f...</td>\n",
       "      <td>Digital Organizer and Messenger</td>\n",
       "      <td>Computers &amp; Accessories</td>\n",
       "      <td>Digital Organizer and Messenger</td>\n",
       "      <td>8.15</td>\n",
       "      <td>{'Electronics': 144944}</td>\n",
       "      <td>{'also_viewed': ['0545016266', 'B009ECM8QY', '...</td>\n",
       "      <td>NaN</td>\n",
       "    </tr>\n",
       "    <tr>\n",
       "      <th>3</th>\n",
       "      <td>0511189877</td>\n",
       "      <td>http://ecx.images-amazon.com/images/I/41HaAhbv...</td>\n",
       "      <td>The CLIKR-5 UR5U-8780L remote control is desig...</td>\n",
       "      <td>Accessories &amp; Supplies</td>\n",
       "      <td>CLIKR-5 Time Warner Cable Remote Control UR5U-...</td>\n",
       "      <td>23.36</td>\n",
       "      <td>NaN</td>\n",
       "      <td>{'also_viewed': ['B001KC08A4', 'B00KUL8O0W', '...</td>\n",
       "      <td>NaN</td>\n",
       "    </tr>\n",
       "    <tr>\n",
       "      <th>4</th>\n",
       "      <td>0528881469</td>\n",
       "      <td>http://ecx.images-amazon.com/images/I/51FnRkJq...</td>\n",
       "      <td>Like its award-winning predecessor, the Intell...</td>\n",
       "      <td>GPS &amp; Navigation</td>\n",
       "      <td>Rand McNally 528881469 7-inch Intelliroute TND...</td>\n",
       "      <td>299.99</td>\n",
       "      <td>NaN</td>\n",
       "      <td>{'also_viewed': ['B006ZOI9OY', 'B00C7FKT2A', '...</td>\n",
       "      <td>NaN</td>\n",
       "    </tr>\n",
       "  </tbody>\n",
       "</table>\n",
       "</div>"
      ],
      "text/plain": [
       "         asin                                              imUrl  \\\n",
       "0  0132793040  http://ecx.images-amazon.com/images/I/31JIPhp%...   \n",
       "1  0321732944  http://ecx.images-amazon.com/images/I/31uogm6Y...   \n",
       "2  0439886341  http://ecx.images-amazon.com/images/I/51k0qa8f...   \n",
       "3  0511189877  http://ecx.images-amazon.com/images/I/41HaAhbv...   \n",
       "4  0528881469  http://ecx.images-amazon.com/images/I/51FnRkJq...   \n",
       "\n",
       "                                         description               categories  \\\n",
       "0  The Kelby Training DVD Mastering Blend Modes i...  Computers & Accessories   \n",
       "1                                                NaN  Computers & Accessories   \n",
       "2                    Digital Organizer and Messenger  Computers & Accessories   \n",
       "3  The CLIKR-5 UR5U-8780L remote control is desig...   Accessories & Supplies   \n",
       "4  Like its award-winning predecessor, the Intell...         GPS & Navigation   \n",
       "\n",
       "                                               title   price  \\\n",
       "0  Kelby Training DVD: Mastering Blend Modes in A...     NaN   \n",
       "1  Kelby Training DVD: Adobe Photoshop CS5 Crash ...     NaN   \n",
       "2                    Digital Organizer and Messenger    8.15   \n",
       "3  CLIKR-5 Time Warner Cable Remote Control UR5U-...   23.36   \n",
       "4  Rand McNally 528881469 7-inch Intelliroute TND...  299.99   \n",
       "\n",
       "                 salesRank                                            related  \\\n",
       "0                      NaN                                                NaN   \n",
       "1                      NaN                                                NaN   \n",
       "2  {'Electronics': 144944}  {'also_viewed': ['0545016266', 'B009ECM8QY', '...   \n",
       "3                      NaN  {'also_viewed': ['B001KC08A4', 'B00KUL8O0W', '...   \n",
       "4                      NaN  {'also_viewed': ['B006ZOI9OY', 'B00C7FKT2A', '...   \n",
       "\n",
       "  brand  \n",
       "0   NaN  \n",
       "1   NaN  \n",
       "2   NaN  \n",
       "3   NaN  \n",
       "4   NaN  "
      ]
     },
     "execution_count": 21,
     "metadata": {},
     "output_type": "execute_result"
    }
   ],
   "source": [
    "product.head()"
   ]
  },
  {
   "cell_type": "markdown",
   "metadata": {},
   "source": [
    "# getting categories for relations"
   ]
  },
  {
   "cell_type": "code",
   "execution_count": 22,
   "metadata": {
    "collapsed": true
   },
   "outputs": [],
   "source": [
    "categories_also_bought = product.apply(find_cat_ab, axis=1)\n",
    "categories_bought_together = product.apply(find_cat_bt, axis=1)\n",
    "categories_also_viewed = product.apply(find_cat_av, axis=1)\n",
    "categories_buy_after_viewing = product.apply(find_cat_bav, axis=1)"
   ]
  },
  {
   "cell_type": "code",
   "execution_count": 23,
   "metadata": {
    "collapsed": true
   },
   "outputs": [],
   "source": [
    "categories_for_aprioiri_also_bought = [x for x in categories_also_bought if len(x) is not 0]\n",
    "categories_for_aprioiri_bought_together = [x for x in categories_bought_together if len(x) is not 0]\n",
    "categories_for_aprioiri_also_viewed = [x for x in categories_also_viewed if len(x) is not 0]\n",
    "categories_for_aprioiri_buy_after_viewing = [x for x in categories_buy_after_viewing if len(x) is not 0]"
   ]
  },
  {
   "cell_type": "markdown",
   "metadata": {},
   "source": [
    "# Frequent Itemset Mining"
   ]
  },
  {
   "cell_type": "code",
   "execution_count": 24,
   "metadata": {
    "collapsed": true
   },
   "outputs": [],
   "source": [
    "L_AB, suppData_AB = apriori.apriori(categories_for_aprioiri_also_bought, minSupport=0.10)\n",
    "L_BT, suppData_BT = apriori.apriori(categories_for_aprioiri_bought_together, minSupport=0.10)\n",
    "L_AV, suppData_AV = apriori.apriori(categories_for_aprioiri_also_viewed, minSupport=0.10)\n",
    "L_BAV, suppData_BAV = apriori.apriori(categories_for_aprioiri_buy_after_viewing, minSupport=0.10)"
   ]
  },
  {
   "cell_type": "code",
   "execution_count": 29,
   "metadata": {
    "collapsed": false
   },
   "outputs": [
    {
     "data": {
      "text/plain": [
       "[[frozenset({'Electronics Warranties'}),\n",
       "  frozenset({'Portable Audio & Video'}),\n",
       "  frozenset({'Camera & Photo'}),\n",
       "  frozenset({'Car & Vehicle Electronics'}),\n",
       "  frozenset({'Accessories & Supplies'}),\n",
       "  frozenset({'Computers & Accessories'})],\n",
       " [frozenset({'Camera & Photo', 'Computers & Accessories'}),\n",
       "  frozenset({'Accessories & Supplies', 'Camera & Photo'}),\n",
       "  frozenset({'Accessories & Supplies', 'Computers & Accessories'})],\n",
       " []]"
      ]
     },
     "execution_count": 29,
     "metadata": {},
     "output_type": "execute_result"
    }
   ],
   "source": [
    "L_AB"
   ]
  },
  {
   "cell_type": "code",
   "execution_count": 30,
   "metadata": {
    "collapsed": false
   },
   "outputs": [
    {
     "data": {
      "text/plain": [
       "[[frozenset({'Camera & Photo'}),\n",
       "  frozenset({'Accessories & Supplies'}),\n",
       "  frozenset({'Computers & Accessories'})],\n",
       " []]"
      ]
     },
     "execution_count": 30,
     "metadata": {},
     "output_type": "execute_result"
    }
   ],
   "source": [
    "L_BT"
   ]
  },
  {
   "cell_type": "code",
   "execution_count": 31,
   "metadata": {
    "collapsed": false
   },
   "outputs": [
    {
     "data": {
      "text/plain": [
       "[[frozenset({'Camera & Photo'}),\n",
       "  frozenset({'Car & Vehicle Electronics'}),\n",
       "  frozenset({'Portable Audio & Video'}),\n",
       "  frozenset({'Accessories & Supplies'}),\n",
       "  frozenset({'Computers & Accessories'})],\n",
       " [frozenset({'Accessories & Supplies', 'Computers & Accessories'})],\n",
       " []]"
      ]
     },
     "execution_count": 31,
     "metadata": {},
     "output_type": "execute_result"
    }
   ],
   "source": [
    "L_AV"
   ]
  },
  {
   "cell_type": "code",
   "execution_count": 32,
   "metadata": {
    "collapsed": false
   },
   "outputs": [
    {
     "data": {
      "text/plain": [
       "[[frozenset({'Camera & Photo'}),\n",
       "  frozenset({'Computers & Accessories'}),\n",
       "  frozenset({'Accessories & Supplies'})],\n",
       " []]"
      ]
     },
     "execution_count": 32,
     "metadata": {},
     "output_type": "execute_result"
    }
   ],
   "source": [
    "L_BAV"
   ]
  },
  {
   "cell_type": "code",
   "execution_count": 25,
   "metadata": {
    "collapsed": false,
    "scrolled": true
   },
   "outputs": [
    {
     "data": {
      "text/plain": [
       "{frozenset({'Computers & Accessories'}): 0.693320637607561,\n",
       " frozenset({'eBook Readers & Accessories'}): 0.026350684158555508,\n",
       " frozenset({'Accessories & Supplies'}): 0.42436874030187616,\n",
       " frozenset({'Car & Vehicle Electronics'}): 0.12714769360981804,\n",
       " frozenset({'Camera & Photo'}): 0.2947453801664551,\n",
       " frozenset({'Home Audio'}): 0.06384539427281705,\n",
       " frozenset({'Portable Audio & Video'}): 0.1351107349414586,\n",
       " frozenset({'Television & Video'}): 0.07002398081534772,\n",
       " frozenset({'Cases'}): 0.015968401749188885,\n",
       " frozenset({'Electronics Warranties'}): 0.10308224009028072,\n",
       " frozenset({'Accessories'}): 0.05664409648751587,\n",
       " frozenset({'Security & Surveillance'}): 0.04503456058682466,\n",
       " frozenset({'GPS & Navigation'}): 0.042431936803498375,\n",
       " frozenset({'Connected Devices'}): 0.0005430949358160531,\n",
       " frozenset({'Service & Replacement Plans'}): 0.005818874312314854,\n",
       " frozenset({'Interior Accessories'}): 5.642544787699252e-05,\n",
       " frozenset({'Car Care'}): 0.0002539145154464664,\n",
       " frozenset({'Tools & Equipment'}): 4.9372266892368456e-05,\n",
       " frozenset({'Replacement Parts'}): 0.00026096769643109045,\n",
       " frozenset({'RV Parts & Accessories'}): 2.1159542953872196e-05,\n",
       " frozenset({'Cell Phones'}): 0.0001410636196924813,\n",
       " frozenset({'Luggage & Travel Gear'}): 0.00021159542953872197,\n",
       " frozenset({'Craft Supplies'}): 7.758499083086472e-05,\n",
       " frozenset({'Science & Math'}): 7.053180984624065e-06,\n",
       " frozenset({'Hair Care'}): 1.410636196924813e-05,\n",
       " frozenset({'Reference'}): 7.053180984624065e-06,\n",
       " frozenset({'Nursery'}): 7.053180984624065e-06,\n",
       " frozenset({'Feeding'}): 7.053180984624065e-06,\n",
       " frozenset({'Accessories & Supplies',\n",
       "            'Computers & Accessories'}): 0.3062420651713923,\n",
       " frozenset({'Accessories & Supplies',\n",
       "            'Portable Audio & Video'}): 0.07940471152489773,\n",
       " frozenset({'Computers & Accessories',\n",
       "            'Portable Audio & Video'}): 0.08353787558188742,\n",
       " frozenset({'Computers & Accessories',\n",
       "            'Electronics Warranties'}): 0.08051206093948371,\n",
       " frozenset({'Electronics Warranties',\n",
       "            'Portable Audio & Video'}): 0.018740301876146143,\n",
       " frozenset({'Camera & Photo', 'Electronics Warranties'}): 0.03485682042601213,\n",
       " frozenset({'Accessories & Supplies',\n",
       "            'Electronics Warranties'}): 0.050387924954154326,\n",
       " frozenset({'Accessories & Supplies', 'Camera & Photo'}): 0.10373818592185076,\n",
       " frozenset({'Camera & Photo', 'Computers & Accessories'}): 0.1599661447312738,\n",
       " frozenset({'Camera & Photo',\n",
       "            'Car & Vehicle Electronics'}): 0.027528565382987726,\n",
       " frozenset({'Accessories & Supplies',\n",
       "            'Car & Vehicle Electronics'}): 0.08030046550994499,\n",
       " frozenset({'Car & Vehicle Electronics',\n",
       "            'Computers & Accessories'}): 0.07260544505572013,\n",
       " frozenset({'Camera & Photo', 'Portable Audio & Video'}): 0.028530117082804344,\n",
       " frozenset({'Car & Vehicle Electronics',\n",
       "            'Portable Audio & Video'}): 0.02934123289603611,\n",
       " frozenset({'Car & Vehicle Electronics',\n",
       "            'Electronics Warranties'}): 0.010248271970658767,\n",
       " frozenset({'Accessories & Supplies',\n",
       "            'Camera & Photo',\n",
       "            'Computers & Accessories'}): 0.08085766680773028}"
      ]
     },
     "execution_count": 25,
     "metadata": {},
     "output_type": "execute_result"
    }
   ],
   "source": [
    "suppData_AB"
   ]
  },
  {
   "cell_type": "code",
   "execution_count": 26,
   "metadata": {
    "collapsed": false,
    "scrolled": true
   },
   "outputs": [
    {
     "data": {
      "text/plain": [
       "{frozenset({'Computers & Accessories'}): 0.4805786649251824,\n",
       " frozenset({'eBook Readers & Accessories'}): 0.010739941508844658,\n",
       " frozenset({'Car & Vehicle Electronics'}): 0.07260285641273176,\n",
       " frozenset({'Accessories & Supplies'}): 0.19857179363411795,\n",
       " frozenset({'Camera & Photo'}): 0.23220420795593288,\n",
       " frozenset({'Electronics Warranties'}): 0.025107186461852976,\n",
       " frozenset({'Television & Video'}): 0.016269627189869105,\n",
       " frozenset({'Portable Audio & Video'}): 0.06184161958034016,\n",
       " frozenset({'Security & Surveillance'}): 0.01526164854198018,\n",
       " frozenset({'Accessories'}): 0.009717765978591102,\n",
       " frozenset({'GPS & Navigation'}): 0.018569522132939605,\n",
       " frozenset({'Home Audio'}): 0.01918708651580113,\n",
       " frozenset({'Cases'}): 0.0051676651807263125,\n",
       " frozenset({'Service & Replacement Plans'}): 0.0007666316476901673,\n",
       " frozenset({'Car Care'}): 0.00014906726482864362,\n",
       " frozenset({'Interior Accessories'}): 7.098441182316364e-06,\n",
       " frozenset({'Tools & Equipment'}): 3.549220591158182e-05,\n",
       " frozenset({'Replacement Parts'}): 2.8393764729265454e-05,\n",
       " frozenset({'Cell Phones'}): 2.129532354694909e-05,\n",
       " frozenset({'Craft Supplies'}): 1.4196882364632727e-05,\n",
       " frozenset({'Luggage & Travel Gear'}): 2.8393764729265454e-05,\n",
       " frozenset({'Hair Care'}): 1.4196882364632727e-05,\n",
       " frozenset({'Connected Devices'}): 1.4196882364632727e-05,\n",
       " frozenset({'Nursery'}): 7.098441182316364e-06,\n",
       " frozenset({'Cell Phones & Accessories'}): 7.098441182316364e-06,\n",
       " frozenset({'RV Parts & Accessories'}): 7.098441182316364e-06,\n",
       " frozenset({'Accessories & Supplies',\n",
       "            'Computers & Accessories'}): 0.04068116641585508,\n",
       " frozenset({'Accessories & Supplies',\n",
       "            'Camera & Photo'}): 0.0063531048581731454,\n",
       " frozenset({'Camera & Photo', 'Computers & Accessories'}): 0.02407081404923479}"
      ]
     },
     "execution_count": 26,
     "metadata": {},
     "output_type": "execute_result"
    }
   ],
   "source": [
    "suppData_BT"
   ]
  },
  {
   "cell_type": "code",
   "execution_count": 27,
   "metadata": {
    "collapsed": false,
    "scrolled": true
   },
   "outputs": [
    {
     "data": {
      "text/plain": [
       "{frozenset({'Computers & Accessories'}): 0.5850489360027289,\n",
       " frozenset({'Accessories & Supplies'}): 0.24882579832594265,\n",
       " frozenset({'Portable Audio & Video'}): 0.11495368791162656,\n",
       " frozenset({'Television & Video'}): 0.06785442523156045,\n",
       " frozenset({'Car & Vehicle Electronics'}): 0.12057411246096927,\n",
       " frozenset({'GPS & Navigation'}): 0.026889874314502373,\n",
       " frozenset({'eBook Readers & Accessories'}): 0.01974233161029624,\n",
       " frozenset({'Camera & Photo'}): 0.222271785048936,\n",
       " frozenset({'Security & Surveillance'}): 0.026013486919786936,\n",
       " frozenset({'Accessories'}): 0.0278764661121461,\n",
       " frozenset({'Cases'}): 0.010490409593030884,\n",
       " frozenset({'Cell Phones'}): 6.297394453045052e-05,\n",
       " frozenset({'Home Audio'}): 0.07168534019049619,\n",
       " frozenset({'Interior Accessories'}): 0.0001889218335913516,\n",
       " frozenset({'Pop'}): 5.247828710870877e-06,\n",
       " frozenset({'Tools & Equipment'}): 9.970874550654666e-05,\n",
       " frozenset({'RV Parts & Accessories'}): 0.00012594788906090105,\n",
       " frozenset({'Electronics Warranties'}): 0.002256566345674477,\n",
       " frozenset({'Car Care'}): 0.0003148697226522526,\n",
       " frozenset({'Connected Devices'}): 0.0010390700847524336,\n",
       " frozenset({'Replacement Parts'}): 1.0495657421741754e-05,\n",
       " frozenset({'Luggage & Travel Gear'}): 0.0003673480097609614,\n",
       " frozenset({'C'}): 5.247828710870877e-06,\n",
       " frozenset({'Service & Replacement Plans'}): 0.00030962189394138174,\n",
       " frozenset({'Cell Phones & Accessories'}): 7.871743066306315e-05,\n",
       " frozenset({'Motorcycle & Powersports'}): 5.772611581957965e-05,\n",
       " frozenset({'Nursery'}): 1.574348613261263e-05,\n",
       " frozenset({'Craft Supplies'}): 5.247828710870877e-06,\n",
       " frozenset({'Accessories & Supplies',\n",
       "            'Portable Audio & Video'}): 0.04006717220749915,\n",
       " frozenset({'Computers & Accessories',\n",
       "            'Portable Audio & Video'}): 0.049749416179055914,\n",
       " frozenset({'Accessories & Supplies',\n",
       "            'Computers & Accessories'}): 0.12375429665975703,\n",
       " frozenset({'Car & Vehicle Electronics',\n",
       "            'Computers & Accessories'}): 0.03686599669386791,\n",
       " frozenset({'Accessories & Supplies',\n",
       "            'Car & Vehicle Electronics'}): 0.03761118837081158,\n",
       " frozenset({'Camera & Photo',\n",
       "            'Computers & Accessories'}): 0.057694628847314425,\n",
       " frozenset({'Accessories & Supplies', 'Camera & Photo'}): 0.02523680827057805,\n",
       " frozenset({'Camera & Photo',\n",
       "            'Car & Vehicle Electronics'}): 0.013308493610768544,\n",
       " frozenset({'Car & Vehicle Electronics',\n",
       "            'Portable Audio & Video'}): 0.027236231009419853,\n",
       " frozenset({'Camera & Photo', 'Portable Audio & Video'}): 0.01071606622759833}"
      ]
     },
     "execution_count": 27,
     "metadata": {},
     "output_type": "execute_result"
    }
   ],
   "source": [
    "suppData_AV"
   ]
  },
  {
   "cell_type": "code",
   "execution_count": 28,
   "metadata": {
    "collapsed": false
   },
   "outputs": [
    {
     "data": {
      "text/plain": [
       "{frozenset({'Accessories & Supplies'}): 0.20679055074506644,\n",
       " frozenset({'GPS & Navigation'}): 0.017368103101087395,\n",
       " frozenset({'Computers & Accessories'}): 0.5304696939186468,\n",
       " frozenset({'eBook Readers & Accessories'}): 0.016141008860249696,\n",
       " frozenset({'Car & Vehicle Electronics'}): 0.06525938884414015,\n",
       " frozenset({'Camera & Photo'}): 0.2091377617801047,\n",
       " frozenset({'Portable Audio & Video'}): 0.08022679218687072,\n",
       " frozenset({'Cases'}): 0.005068843133306484,\n",
       " frozenset({'Television & Video'}): 0.02850948952879581,\n",
       " frozenset({'Security & Surveillance'}): 0.015901882803060815,\n",
       " frozenset({'Accessories'}): 0.013469719089810712,\n",
       " frozenset({'Home Audio'}): 0.027540399718082965,\n",
       " frozenset({'Interior Accessories'}): 4.090314136125655e-05,\n",
       " frozenset({'Electronics Warranties'}): 0.009115107732581555,\n",
       " frozenset({'Replacement Parts'}): 2.5171163914619413e-05,\n",
       " frozenset({'Service & Replacement Plans'}): 0.0005317408376963351,\n",
       " frozenset({'Connected Devices'}): 0.00014788058799838905,\n",
       " frozenset({'Cell Phones'}): 5.0342327829238826e-05,\n",
       " frozenset({'Luggage & Travel Gear'}): 5.9781514297221105e-05,\n",
       " frozenset({'Tools & Equipment'}): 9.439186467982279e-06,\n",
       " frozenset({'Craft Supplies'}): 6.292790978654853e-06,\n",
       " frozenset({'Science & Math'}): 3.1463954893274266e-06,\n",
       " frozenset({'Hair Care'}): 9.439186467982279e-06,\n",
       " frozenset({'Reference'}): 3.1463954893274266e-06,\n",
       " frozenset({'Nursery'}): 3.1463954893274266e-06,\n",
       " frozenset({'Motorcycle & Powersports'}): 3.1463954893274266e-06,\n",
       " frozenset({'Cell Phones & Accessories'}): 6.292790978654853e-06,\n",
       " frozenset({'Feeding'}): 3.1463954893274266e-06,\n",
       " frozenset({'Car Care'}): 3.1463954893274266e-06,\n",
       " frozenset({'Accessories & Supplies',\n",
       "            'Computers & Accessories'}): 0.058006947241240434,\n",
       " frozenset({'Camera & Photo',\n",
       "            'Computers & Accessories'}): 0.025322190898107128,\n",
       " frozenset({'Accessories & Supplies', 'Camera & Photo'}): 0.009325916230366492}"
      ]
     },
     "execution_count": 28,
     "metadata": {},
     "output_type": "execute_result"
    }
   ],
   "source": [
    "suppData_BAV"
   ]
  }
 ],
 "metadata": {
  "kernelspec": {
   "display_name": "Python 3",
   "language": "python",
   "name": "python3"
  },
  "language_info": {
   "codemirror_mode": {
    "name": "ipython",
    "version": 3
   },
   "file_extension": ".py",
   "mimetype": "text/x-python",
   "name": "python",
   "nbconvert_exporter": "python",
   "pygments_lexer": "ipython3",
   "version": "3.6.0"
  }
 },
 "nbformat": 4,
 "nbformat_minor": 2
}
