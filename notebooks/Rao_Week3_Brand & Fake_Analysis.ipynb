{
 "cells": [
  {
   "cell_type": "code",
   "execution_count": 1,
   "metadata": {
    "collapsed": true
   },
   "outputs": [],
   "source": [
    "import numpy as np\n",
    "import pandas as pd\n",
    "%matplotlib inline\n",
    "import matplotlib.pyplot as plt\n",
    "import plotly.plotly as py\n",
    "#py.set_credentials_file(username='raoshaheryarkhan', api_key='KswnKD2cSzUMp6zxf25p')\n",
    "import plotly.figure_factory as ff\n",
    "import math\n",
    "from datetime import datetime\n",
    "import sys\n",
    "import os"
   ]
  },
  {
   "cell_type": "code",
   "execution_count": 2,
   "metadata": {
    "collapsed": true
   },
   "outputs": [],
   "source": [
    "project_path = \"PycharmProjects/Amazon-Mining\"\n",
    "# make sure to use position 1\n",
    "sys.path.insert(1, project_path)"
   ]
  },
  {
   "cell_type": "code",
   "execution_count": 3,
   "metadata": {
    "collapsed": true
   },
   "outputs": [],
   "source": [
    "os.chdir(\"/Users\\RSK\\PycharmProjects\\Amazon-Mining\")\n",
    "from src.data.json_loader import JSONLoader"
   ]
  },
  {
   "cell_type": "code",
   "execution_count": 4,
   "metadata": {
    "collapsed": true
   },
   "outputs": [],
   "source": [
    "# file_path corresponds to the file of the .gz file which contains the JSON file. \n",
    "os.chdir(\"/Users\\RSK\")\n",
    "file_path = 'Documents\\DataMining/meta_Electronics.json.gz'\n",
    "loader = JSONLoader()"
   ]
  },
  {
   "cell_type": "code",
   "execution_count": 5,
   "metadata": {
    "collapsed": true
   },
   "outputs": [],
   "source": [
    "metaData = loader.load_data(file_path)"
   ]
  },
  {
   "cell_type": "code",
   "execution_count": null,
   "metadata": {
    "collapsed": true
   },
   "outputs": [],
   "source": [
    "brandMetaData = metaData[['asin','brand','price']].copy()\n",
    "del metaData"
   ]
  },
  {
   "cell_type": "code",
   "execution_count": 6,
   "metadata": {
    "collapsed": true
   },
   "outputs": [],
   "source": [
    "ratingData = pd.read_json('PycharmProjects\\Amazon-Mining\\dataset\\Product_Ratings.json', orient='columns')"
   ]
  },
  {
   "cell_type": "code",
   "execution_count": 8,
   "metadata": {
    "collapsed": true
   },
   "outputs": [],
   "source": [
    "brandData = pd.merge(brandMetaData, ratingData, on = \"asin\")"
   ]
  },
  {
   "cell_type": "code",
   "execution_count": 9,
   "metadata": {},
   "outputs": [
    {
     "data": {
      "text/plain": [
       "asin           0\n",
       "brand      33250\n",
       "price       4032\n",
       "overall        0\n",
       "dtype: int64"
      ]
     },
     "execution_count": 9,
     "metadata": {},
     "output_type": "execute_result"
    }
   ],
   "source": [
    "brandData.isnull().sum()"
   ]
  },
  {
   "cell_type": "markdown",
   "metadata": {},
   "source": [
    "Total Brands That got Reviewed"
   ]
  },
  {
   "cell_type": "code",
   "execution_count": 10,
   "metadata": {},
   "outputs": [
    {
     "data": {
      "text/plain": [
       "3526"
      ]
     },
     "execution_count": 10,
     "metadata": {},
     "output_type": "execute_result"
    }
   ],
   "source": [
    "brandData.loc[:,'brand'].unique().shape[0]"
   ]
  },
  {
   "cell_type": "code",
   "execution_count": 11,
   "metadata": {},
   "outputs": [
    {
     "data": {
      "text/html": [
       "<div>\n",
       "<style>\n",
       "    .dataframe thead tr:only-child th {\n",
       "        text-align: right;\n",
       "    }\n",
       "\n",
       "    .dataframe thead th {\n",
       "        text-align: left;\n",
       "    }\n",
       "\n",
       "    .dataframe tbody tr th {\n",
       "        vertical-align: top;\n",
       "    }\n",
       "</style>\n",
       "<table border=\"1\" class=\"dataframe\">\n",
       "  <thead>\n",
       "    <tr style=\"text-align: right;\">\n",
       "      <th></th>\n",
       "      <th>asin</th>\n",
       "      <th>brand</th>\n",
       "      <th>price</th>\n",
       "      <th>overall</th>\n",
       "    </tr>\n",
       "  </thead>\n",
       "  <tbody>\n",
       "    <tr>\n",
       "      <th>0</th>\n",
       "      <td>0528881469</td>\n",
       "      <td>NaN</td>\n",
       "      <td>299.99</td>\n",
       "      <td>2.400000</td>\n",
       "    </tr>\n",
       "    <tr>\n",
       "      <th>1</th>\n",
       "      <td>0594451647</td>\n",
       "      <td>NaN</td>\n",
       "      <td>49.95</td>\n",
       "      <td>4.200000</td>\n",
       "    </tr>\n",
       "    <tr>\n",
       "      <th>2</th>\n",
       "      <td>0594481813</td>\n",
       "      <td>Barnes &amp;amp; Noble</td>\n",
       "      <td>19.65</td>\n",
       "      <td>4.000000</td>\n",
       "    </tr>\n",
       "    <tr>\n",
       "      <th>3</th>\n",
       "      <td>0972683275</td>\n",
       "      <td>VideoSecu</td>\n",
       "      <td>29.99</td>\n",
       "      <td>4.461187</td>\n",
       "    </tr>\n",
       "    <tr>\n",
       "      <th>4</th>\n",
       "      <td>1400532620</td>\n",
       "      <td>Barnes &amp;amp; Noble</td>\n",
       "      <td>74.95</td>\n",
       "      <td>3.609756</td>\n",
       "    </tr>\n",
       "    <tr>\n",
       "      <th>5</th>\n",
       "      <td>140053271X</td>\n",
       "      <td>Barnes &amp;amp; Noble</td>\n",
       "      <td>79.49</td>\n",
       "      <td>3.830986</td>\n",
       "    </tr>\n",
       "    <tr>\n",
       "      <th>6</th>\n",
       "      <td>1400532736</td>\n",
       "      <td>Barnes &amp;amp; Noble</td>\n",
       "      <td>62.99</td>\n",
       "      <td>3.230769</td>\n",
       "    </tr>\n",
       "    <tr>\n",
       "      <th>7</th>\n",
       "      <td>1400698987</td>\n",
       "      <td>Barnes &amp;amp; Noble</td>\n",
       "      <td>158.99</td>\n",
       "      <td>4.214286</td>\n",
       "    </tr>\n",
       "    <tr>\n",
       "      <th>8</th>\n",
       "      <td>1400501520</td>\n",
       "      <td>NaN</td>\n",
       "      <td>169.99</td>\n",
       "      <td>4.400000</td>\n",
       "    </tr>\n",
       "    <tr>\n",
       "      <th>9</th>\n",
       "      <td>1400699169</td>\n",
       "      <td>Barnes &amp;amp; Noble</td>\n",
       "      <td>211.75</td>\n",
       "      <td>4.500000</td>\n",
       "    </tr>\n",
       "    <tr>\n",
       "      <th>10</th>\n",
       "      <td>1400532655</td>\n",
       "      <td>Barnes &amp;amp; Noble</td>\n",
       "      <td>113.99</td>\n",
       "      <td>3.807339</td>\n",
       "    </tr>\n",
       "    <tr>\n",
       "      <th>11</th>\n",
       "      <td>1400599997</td>\n",
       "      <td>NaN</td>\n",
       "      <td>78.71</td>\n",
       "      <td>3.902439</td>\n",
       "    </tr>\n",
       "    <tr>\n",
       "      <th>12</th>\n",
       "      <td>1400501466</td>\n",
       "      <td>NaN</td>\n",
       "      <td>188.88</td>\n",
       "      <td>3.953488</td>\n",
       "    </tr>\n",
       "    <tr>\n",
       "      <th>13</th>\n",
       "      <td>1400501776</td>\n",
       "      <td>Barnes &amp;amp; Noble</td>\n",
       "      <td>89.99</td>\n",
       "      <td>4.150000</td>\n",
       "    </tr>\n",
       "    <tr>\n",
       "      <th>14</th>\n",
       "      <td>1615527613</td>\n",
       "      <td>NaN</td>\n",
       "      <td>12.90</td>\n",
       "      <td>4.200000</td>\n",
       "    </tr>\n",
       "    <tr>\n",
       "      <th>15</th>\n",
       "      <td>3744295508</td>\n",
       "      <td>Generic</td>\n",
       "      <td>2.30</td>\n",
       "      <td>4.947368</td>\n",
       "    </tr>\n",
       "    <tr>\n",
       "      <th>16</th>\n",
       "      <td>3930992868</td>\n",
       "      <td>Toshiba</td>\n",
       "      <td>25.99</td>\n",
       "      <td>5.000000</td>\n",
       "    </tr>\n",
       "    <tr>\n",
       "      <th>17</th>\n",
       "      <td>3936710058</td>\n",
       "      <td>NaN</td>\n",
       "      <td>35.00</td>\n",
       "      <td>3.500000</td>\n",
       "    </tr>\n",
       "    <tr>\n",
       "      <th>18</th>\n",
       "      <td>6301977173</td>\n",
       "      <td>NaN</td>\n",
       "      <td>2.99</td>\n",
       "      <td>3.000000</td>\n",
       "    </tr>\n",
       "    <tr>\n",
       "      <th>19</th>\n",
       "      <td>7214047977</td>\n",
       "      <td>NaN</td>\n",
       "      <td>7.99</td>\n",
       "      <td>4.307692</td>\n",
       "    </tr>\n",
       "    <tr>\n",
       "      <th>20</th>\n",
       "      <td>7507825604</td>\n",
       "      <td>Bargain Cable</td>\n",
       "      <td>3.97</td>\n",
       "      <td>4.833333</td>\n",
       "    </tr>\n",
       "    <tr>\n",
       "      <th>21</th>\n",
       "      <td>7799813393</td>\n",
       "      <td>NaN</td>\n",
       "      <td>30.99</td>\n",
       "      <td>3.500000</td>\n",
       "    </tr>\n",
       "    <tr>\n",
       "      <th>22</th>\n",
       "      <td>8862935293</td>\n",
       "      <td>NaN</td>\n",
       "      <td>69.00</td>\n",
       "      <td>3.666667</td>\n",
       "    </tr>\n",
       "    <tr>\n",
       "      <th>23</th>\n",
       "      <td>8862936826</td>\n",
       "      <td>NaN</td>\n",
       "      <td>92.99</td>\n",
       "      <td>3.000000</td>\n",
       "    </tr>\n",
       "    <tr>\n",
       "      <th>24</th>\n",
       "      <td>8918010656</td>\n",
       "      <td>YAMAKASI</td>\n",
       "      <td>408.69</td>\n",
       "      <td>4.428571</td>\n",
       "    </tr>\n",
       "    <tr>\n",
       "      <th>25</th>\n",
       "      <td>9043413585</td>\n",
       "      <td>NaN</td>\n",
       "      <td>5.99</td>\n",
       "      <td>3.428571</td>\n",
       "    </tr>\n",
       "    <tr>\n",
       "      <th>26</th>\n",
       "      <td>9573212900</td>\n",
       "      <td>Panasonic</td>\n",
       "      <td>24.95</td>\n",
       "      <td>4.111111</td>\n",
       "    </tr>\n",
       "    <tr>\n",
       "      <th>27</th>\n",
       "      <td>9573212919</td>\n",
       "      <td>Epartsdom</td>\n",
       "      <td>20.55</td>\n",
       "      <td>3.882353</td>\n",
       "    </tr>\n",
       "    <tr>\n",
       "      <th>28</th>\n",
       "      <td>9575871979</td>\n",
       "      <td>NaN</td>\n",
       "      <td>27.99</td>\n",
       "      <td>4.040000</td>\n",
       "    </tr>\n",
       "    <tr>\n",
       "      <th>29</th>\n",
       "      <td>9625993428</td>\n",
       "      <td>Mycarryingcase</td>\n",
       "      <td>1.98</td>\n",
       "      <td>3.800000</td>\n",
       "    </tr>\n",
       "    <tr>\n",
       "      <th>...</th>\n",
       "      <td>...</td>\n",
       "      <td>...</td>\n",
       "      <td>...</td>\n",
       "      <td>...</td>\n",
       "    </tr>\n",
       "    <tr>\n",
       "      <th>62971</th>\n",
       "      <td>B00KHA5G6G</td>\n",
       "      <td>Samsung</td>\n",
       "      <td>497.99</td>\n",
       "      <td>4.391304</td>\n",
       "    </tr>\n",
       "    <tr>\n",
       "      <th>62972</th>\n",
       "      <td>B00KHR4T8U</td>\n",
       "      <td>Microsoft</td>\n",
       "      <td>988.49</td>\n",
       "      <td>4.857143</td>\n",
       "    </tr>\n",
       "    <tr>\n",
       "      <th>62973</th>\n",
       "      <td>B00KHR4ZL6</td>\n",
       "      <td>Microsoft</td>\n",
       "      <td>NaN</td>\n",
       "      <td>4.266667</td>\n",
       "    </tr>\n",
       "    <tr>\n",
       "      <th>62974</th>\n",
       "      <td>B00KIMX4EY</td>\n",
       "      <td>NaN</td>\n",
       "      <td>36.99</td>\n",
       "      <td>4.428571</td>\n",
       "    </tr>\n",
       "    <tr>\n",
       "      <th>62975</th>\n",
       "      <td>B00KINSDK8</td>\n",
       "      <td>NaN</td>\n",
       "      <td>20.99</td>\n",
       "      <td>3.538462</td>\n",
       "    </tr>\n",
       "    <tr>\n",
       "      <th>62976</th>\n",
       "      <td>B00KJGY3TO</td>\n",
       "      <td>Asus</td>\n",
       "      <td>709.00</td>\n",
       "      <td>3.500000</td>\n",
       "    </tr>\n",
       "    <tr>\n",
       "      <th>62977</th>\n",
       "      <td>B00KJLZDXO</td>\n",
       "      <td>NaN</td>\n",
       "      <td>24.99</td>\n",
       "      <td>2.200000</td>\n",
       "    </tr>\n",
       "    <tr>\n",
       "      <th>62978</th>\n",
       "      <td>B00KJJW36G</td>\n",
       "      <td>NaN</td>\n",
       "      <td>299.00</td>\n",
       "      <td>4.454545</td>\n",
       "    </tr>\n",
       "    <tr>\n",
       "      <th>62979</th>\n",
       "      <td>B00KK9481I</td>\n",
       "      <td>Logitech</td>\n",
       "      <td>30.65</td>\n",
       "      <td>4.272727</td>\n",
       "    </tr>\n",
       "    <tr>\n",
       "      <th>62980</th>\n",
       "      <td>B00KLGSQJ0</td>\n",
       "      <td>NaN</td>\n",
       "      <td>19.99</td>\n",
       "      <td>4.800000</td>\n",
       "    </tr>\n",
       "    <tr>\n",
       "      <th>62981</th>\n",
       "      <td>B00KMQ3S2E</td>\n",
       "      <td>NaN</td>\n",
       "      <td>12.99</td>\n",
       "      <td>4.777778</td>\n",
       "    </tr>\n",
       "    <tr>\n",
       "      <th>62982</th>\n",
       "      <td>B00KMRGF28</td>\n",
       "      <td>Dell</td>\n",
       "      <td>249.99</td>\n",
       "      <td>3.857143</td>\n",
       "    </tr>\n",
       "    <tr>\n",
       "      <th>62983</th>\n",
       "      <td>B00KMRGB7C</td>\n",
       "      <td>NaN</td>\n",
       "      <td>15.99</td>\n",
       "      <td>4.833333</td>\n",
       "    </tr>\n",
       "    <tr>\n",
       "      <th>62984</th>\n",
       "      <td>B00KMRGF3M</td>\n",
       "      <td>Dell</td>\n",
       "      <td>476.00</td>\n",
       "      <td>4.000000</td>\n",
       "    </tr>\n",
       "    <tr>\n",
       "      <th>62985</th>\n",
       "      <td>B00KNM763E</td>\n",
       "      <td>NaN</td>\n",
       "      <td>129.99</td>\n",
       "      <td>3.761905</td>\n",
       "    </tr>\n",
       "    <tr>\n",
       "      <th>62986</th>\n",
       "      <td>B00KOHKRXE</td>\n",
       "      <td>NaN</td>\n",
       "      <td>12.99</td>\n",
       "      <td>4.818182</td>\n",
       "    </tr>\n",
       "    <tr>\n",
       "      <th>62987</th>\n",
       "      <td>B00KOHQU58</td>\n",
       "      <td>NaN</td>\n",
       "      <td>18.99</td>\n",
       "      <td>4.923077</td>\n",
       "    </tr>\n",
       "    <tr>\n",
       "      <th>62988</th>\n",
       "      <td>B00KONCDVM</td>\n",
       "      <td>Outdoor Technology</td>\n",
       "      <td>99.95</td>\n",
       "      <td>4.307692</td>\n",
       "    </tr>\n",
       "    <tr>\n",
       "      <th>62989</th>\n",
       "      <td>B00KOLNVAQ</td>\n",
       "      <td>NaN</td>\n",
       "      <td>149.99</td>\n",
       "      <td>4.454545</td>\n",
       "    </tr>\n",
       "    <tr>\n",
       "      <th>62990</th>\n",
       "      <td>B00KPRWAX8</td>\n",
       "      <td>Intel</td>\n",
       "      <td>365.21</td>\n",
       "      <td>4.733333</td>\n",
       "    </tr>\n",
       "    <tr>\n",
       "      <th>62991</th>\n",
       "      <td>B00KSLCU72</td>\n",
       "      <td>NaN</td>\n",
       "      <td>7.99</td>\n",
       "      <td>5.000000</td>\n",
       "    </tr>\n",
       "    <tr>\n",
       "      <th>62992</th>\n",
       "      <td>B00KVNY2KA</td>\n",
       "      <td>NaN</td>\n",
       "      <td>24.99</td>\n",
       "      <td>4.900000</td>\n",
       "    </tr>\n",
       "    <tr>\n",
       "      <th>62993</th>\n",
       "      <td>B00KWHMR6G</td>\n",
       "      <td>Netgear</td>\n",
       "      <td>299.99</td>\n",
       "      <td>3.428571</td>\n",
       "    </tr>\n",
       "    <tr>\n",
       "      <th>62994</th>\n",
       "      <td>B00KXAFYZS</td>\n",
       "      <td>NaN</td>\n",
       "      <td>36.99</td>\n",
       "      <td>5.000000</td>\n",
       "    </tr>\n",
       "    <tr>\n",
       "      <th>62995</th>\n",
       "      <td>B00KYMCJF8</td>\n",
       "      <td>NaN</td>\n",
       "      <td>29.99</td>\n",
       "      <td>4.562500</td>\n",
       "    </tr>\n",
       "    <tr>\n",
       "      <th>62996</th>\n",
       "      <td>B00L2442H0</td>\n",
       "      <td>Sabrent</td>\n",
       "      <td>5.99</td>\n",
       "      <td>4.882353</td>\n",
       "    </tr>\n",
       "    <tr>\n",
       "      <th>62997</th>\n",
       "      <td>B00L26YDA4</td>\n",
       "      <td>Sabrent</td>\n",
       "      <td>35.99</td>\n",
       "      <td>4.500000</td>\n",
       "    </tr>\n",
       "    <tr>\n",
       "      <th>62998</th>\n",
       "      <td>B00L21HC7A</td>\n",
       "      <td>Sabrent</td>\n",
       "      <td>14.99</td>\n",
       "      <td>4.578947</td>\n",
       "    </tr>\n",
       "    <tr>\n",
       "      <th>62999</th>\n",
       "      <td>B00L3YHF6O</td>\n",
       "      <td>NaN</td>\n",
       "      <td>149.99</td>\n",
       "      <td>5.000000</td>\n",
       "    </tr>\n",
       "    <tr>\n",
       "      <th>63000</th>\n",
       "      <td>B00LGQ6HL8</td>\n",
       "      <td>NaN</td>\n",
       "      <td>99.50</td>\n",
       "      <td>5.000000</td>\n",
       "    </tr>\n",
       "  </tbody>\n",
       "</table>\n",
       "<p>63001 rows × 4 columns</p>\n",
       "</div>"
      ],
      "text/plain": [
       "             asin               brand   price   overall\n",
       "0      0528881469                 NaN  299.99  2.400000\n",
       "1      0594451647                 NaN   49.95  4.200000\n",
       "2      0594481813  Barnes &amp; Noble   19.65  4.000000\n",
       "3      0972683275           VideoSecu   29.99  4.461187\n",
       "4      1400532620  Barnes &amp; Noble   74.95  3.609756\n",
       "5      140053271X  Barnes &amp; Noble   79.49  3.830986\n",
       "6      1400532736  Barnes &amp; Noble   62.99  3.230769\n",
       "7      1400698987  Barnes &amp; Noble  158.99  4.214286\n",
       "8      1400501520                 NaN  169.99  4.400000\n",
       "9      1400699169  Barnes &amp; Noble  211.75  4.500000\n",
       "10     1400532655  Barnes &amp; Noble  113.99  3.807339\n",
       "11     1400599997                 NaN   78.71  3.902439\n",
       "12     1400501466                 NaN  188.88  3.953488\n",
       "13     1400501776  Barnes &amp; Noble   89.99  4.150000\n",
       "14     1615527613                 NaN   12.90  4.200000\n",
       "15     3744295508             Generic    2.30  4.947368\n",
       "16     3930992868             Toshiba   25.99  5.000000\n",
       "17     3936710058                 NaN   35.00  3.500000\n",
       "18     6301977173                 NaN    2.99  3.000000\n",
       "19     7214047977                 NaN    7.99  4.307692\n",
       "20     7507825604       Bargain Cable    3.97  4.833333\n",
       "21     7799813393                 NaN   30.99  3.500000\n",
       "22     8862935293                 NaN   69.00  3.666667\n",
       "23     8862936826                 NaN   92.99  3.000000\n",
       "24     8918010656            YAMAKASI  408.69  4.428571\n",
       "25     9043413585                 NaN    5.99  3.428571\n",
       "26     9573212900           Panasonic   24.95  4.111111\n",
       "27     9573212919           Epartsdom   20.55  3.882353\n",
       "28     9575871979                 NaN   27.99  4.040000\n",
       "29     9625993428      Mycarryingcase    1.98  3.800000\n",
       "...           ...                 ...     ...       ...\n",
       "62971  B00KHA5G6G             Samsung  497.99  4.391304\n",
       "62972  B00KHR4T8U           Microsoft  988.49  4.857143\n",
       "62973  B00KHR4ZL6           Microsoft     NaN  4.266667\n",
       "62974  B00KIMX4EY                 NaN   36.99  4.428571\n",
       "62975  B00KINSDK8                 NaN   20.99  3.538462\n",
       "62976  B00KJGY3TO                Asus  709.00  3.500000\n",
       "62977  B00KJLZDXO                 NaN   24.99  2.200000\n",
       "62978  B00KJJW36G                 NaN  299.00  4.454545\n",
       "62979  B00KK9481I            Logitech   30.65  4.272727\n",
       "62980  B00KLGSQJ0                 NaN   19.99  4.800000\n",
       "62981  B00KMQ3S2E                 NaN   12.99  4.777778\n",
       "62982  B00KMRGF28                Dell  249.99  3.857143\n",
       "62983  B00KMRGB7C                 NaN   15.99  4.833333\n",
       "62984  B00KMRGF3M                Dell  476.00  4.000000\n",
       "62985  B00KNM763E                 NaN  129.99  3.761905\n",
       "62986  B00KOHKRXE                 NaN   12.99  4.818182\n",
       "62987  B00KOHQU58                 NaN   18.99  4.923077\n",
       "62988  B00KONCDVM  Outdoor Technology   99.95  4.307692\n",
       "62989  B00KOLNVAQ                 NaN  149.99  4.454545\n",
       "62990  B00KPRWAX8               Intel  365.21  4.733333\n",
       "62991  B00KSLCU72                 NaN    7.99  5.000000\n",
       "62992  B00KVNY2KA                 NaN   24.99  4.900000\n",
       "62993  B00KWHMR6G             Netgear  299.99  3.428571\n",
       "62994  B00KXAFYZS                 NaN   36.99  5.000000\n",
       "62995  B00KYMCJF8                 NaN   29.99  4.562500\n",
       "62996  B00L2442H0             Sabrent    5.99  4.882353\n",
       "62997  B00L26YDA4             Sabrent   35.99  4.500000\n",
       "62998  B00L21HC7A             Sabrent   14.99  4.578947\n",
       "62999  B00L3YHF6O                 NaN  149.99  5.000000\n",
       "63000  B00LGQ6HL8                 NaN   99.50  5.000000\n",
       "\n",
       "[63001 rows x 4 columns]"
      ]
     },
     "execution_count": 11,
     "metadata": {},
     "output_type": "execute_result"
    }
   ],
   "source": [
    "brandData"
   ]
  },
  {
   "cell_type": "code",
   "execution_count": 12,
   "metadata": {
    "collapsed": true
   },
   "outputs": [],
   "source": [
    "brandAvgRating = brandData[['brand','overall']].copy()"
   ]
  },
  {
   "cell_type": "code",
   "execution_count": 13,
   "metadata": {
    "collapsed": true
   },
   "outputs": [],
   "source": [
    "brandAvgRating = brandAvgRating[['brand','overall']].groupby(['brand'], as_index=False).mean()"
   ]
  },
  {
   "cell_type": "code",
   "execution_count": 148,
   "metadata": {},
   "outputs": [
    {
     "data": {
      "image/png": "[encoded data removed]",
      "text/plain": [
       "<matplotlib.figure.Figure at 0x1f174d66208>"
      ]
     },
     "metadata": {},
     "output_type": "display_data"
    }
   ],
   "source": [
    "brandAvgRating.overall = brandAvgRating.overall.apply(lambda x: (0.5 * math.ceil(2.0 * x)))\n",
    "plt.figure(figsize=(12, 8))\n",
    "brandAvgPlot = brandAvgRating.overall.value_counts().plot(kind='bar')\n",
    "brandAvgPlot.set_title(\"Brands Average Ratings\")\n",
    "brandAvgPlot.set_xlabel(\"Ratings\")\n",
    "brandAvgPlot.set_ylabel(\"Brand Count\")\n",
    "rects = brandAvgPlot.patches\n",
    "labels = [i for i in brandAvgRating.overall.value_counts()]\n",
    "for rect, label in zip(rects, labels):\n",
    "    height = rect.get_height()\n",
    "    brandAvgPlot.text(rect.get_x() + rect.get_width()/2, height + 5, label, ha='center', va='bottom')\n",
    "    plt.savefig(\"PycharmProjects/Amazon-Mining/reports/Brand Analysis/brandAvgRatings.png\")"
   ]
  },
  {
   "cell_type": "code",
   "execution_count": 23,
   "metadata": {
    "collapsed": true
   },
   "outputs": [],
   "source": [
    "brandProductsRev = brandData[['asin','brand']].copy()"
   ]
  },
  {
   "cell_type": "markdown",
   "metadata": {},
   "source": [
    "Reviewed Products for whom brands exists"
   ]
  },
  {
   "cell_type": "code",
   "execution_count": 39,
   "metadata": {},
   "outputs": [
    {
     "data": {
      "text/plain": [
       "29751"
      ]
     },
     "execution_count": 39,
     "metadata": {},
     "output_type": "execute_result"
    }
   ],
   "source": [
    "withoutNaNBrandProd = brandProductsRev.dropna(axis=0, how='any')\n",
    "withoutNaNBrandProd = withoutNaNBrandProd.rename(columns = {'asin':'prodCount'})\n",
    "withoutNaNBrandProd.shape[0]"
   ]
  },
  {
   "cell_type": "code",
   "execution_count": 40,
   "metadata": {
    "collapsed": true
   },
   "outputs": [],
   "source": [
    "withoutNaNBrandProdGroup = withoutNaNBrandProd[['brand','prodCount']].groupby(['brand'], as_index=False).count()"
   ]
  },
  {
   "cell_type": "code",
   "execution_count": 42,
   "metadata": {
    "collapsed": true
   },
   "outputs": [],
   "source": [
    "bins = [0,4, 9, 19 ,29, 39,49, 74, 99, 149, 199, 249, 299, 499, 999,9999]\n",
    "group_names = ['1+','5+', '10+' ,'20+','30+','40+', '50+', '75+','100+','150+','200+','250+','300+','500+','1000+']\n",
    "withoutNaNBrandProdGroup['countRange'] = pd.cut(withoutNaNBrandProdGroup['prodCount'], bins, labels=group_names)"
   ]
  },
  {
   "cell_type": "code",
   "execution_count": 147,
   "metadata": {},
   "outputs": [
    {
     "data": {
      "image/png": "[encoded data removed]",
      "text/plain": [
       "<matplotlib.figure.Figure at 0x1f124ed9be0>"
      ]
     },
     "metadata": {},
     "output_type": "display_data"
    }
   ],
   "source": [
    "plt.figure(figsize=(12, 8))\n",
    "brandProductCountPlot = withoutNaNBrandProdGroup.countRange.value_counts().plot(kind='bar')\n",
    "brandProductCountPlot.set_title(\"Number of Products Reviewed for each Brand\")\n",
    "brandProductCountPlot.set_xlabel(\"No. Products Range\")\n",
    "brandProductCountPlot.set_ylabel(\"Brand Count\")\n",
    "rects = brandProductCountPlot.patches\n",
    "labels = [i for i in withoutNaNBrandProdGroup.countRange.value_counts()]\n",
    "for rect, label in zip(rects, labels):\n",
    "    height = rect.get_height()\n",
    "    brandProductCountPlot.text(rect.get_x() + rect.get_width()/2, height + 5, label, ha='center', va='bottom')\n",
    "    plt.savefig(\"PycharmProjects/Amazon-Mining/reports/Brand Analysis/brandsReviewedProdCount.png\")"
   ]
  },
  {
   "cell_type": "code",
   "execution_count": 132,
   "metadata": {},
   "outputs": [
    {
     "data": {
      "text/html": [
       "<div>\n",
       "<style>\n",
       "    .dataframe thead tr:only-child th {\n",
       "        text-align: right;\n",
       "    }\n",
       "\n",
       "    .dataframe thead th {\n",
       "        text-align: left;\n",
       "    }\n",
       "\n",
       "    .dataframe tbody tr th {\n",
       "        vertical-align: top;\n",
       "    }\n",
       "</style>\n",
       "<table border=\"1\" class=\"dataframe\">\n",
       "  <thead>\n",
       "    <tr style=\"text-align: right;\">\n",
       "      <th></th>\n",
       "      <th>brand</th>\n",
       "      <th>prodCount</th>\n",
       "      <th>countRange</th>\n",
       "    </tr>\n",
       "  </thead>\n",
       "  <tbody>\n",
       "    <tr>\n",
       "      <th>2718</th>\n",
       "      <td>Sony</td>\n",
       "      <td>701</td>\n",
       "      <td>500+</td>\n",
       "    </tr>\n",
       "    <tr>\n",
       "      <th>1231</th>\n",
       "      <td>Generic</td>\n",
       "      <td>575</td>\n",
       "      <td>500+</td>\n",
       "    </tr>\n",
       "    <tr>\n",
       "      <th>307</th>\n",
       "      <td>BELKIN</td>\n",
       "      <td>425</td>\n",
       "      <td>300+</td>\n",
       "    </tr>\n",
       "    <tr>\n",
       "      <th>573</th>\n",
       "      <td>Canon</td>\n",
       "      <td>393</td>\n",
       "      <td>300+</td>\n",
       "    </tr>\n",
       "    <tr>\n",
       "      <th>3381</th>\n",
       "      <td>eForCity</td>\n",
       "      <td>380</td>\n",
       "      <td>300+</td>\n",
       "    </tr>\n",
       "    <tr>\n",
       "      <th>2769</th>\n",
       "      <td>StarTech</td>\n",
       "      <td>342</td>\n",
       "      <td>300+</td>\n",
       "    </tr>\n",
       "    <tr>\n",
       "      <th>2075</th>\n",
       "      <td>Nikon</td>\n",
       "      <td>322</td>\n",
       "      <td>300+</td>\n",
       "    </tr>\n",
       "    <tr>\n",
       "      <th>2046</th>\n",
       "      <td>Neewer</td>\n",
       "      <td>319</td>\n",
       "      <td>300+</td>\n",
       "    </tr>\n",
       "    <tr>\n",
       "      <th>2572</th>\n",
       "      <td>Samsung</td>\n",
       "      <td>314</td>\n",
       "      <td>300+</td>\n",
       "    </tr>\n",
       "  </tbody>\n",
       "</table>\n",
       "</div>"
      ],
      "text/plain": [
       "         brand  prodCount countRange\n",
       "2718      Sony        701       500+\n",
       "1231   Generic        575       500+\n",
       "307     BELKIN        425       300+\n",
       "573      Canon        393       300+\n",
       "3381  eForCity        380       300+\n",
       "2769  StarTech        342       300+\n",
       "2075     Nikon        322       300+\n",
       "2046    Neewer        319       300+\n",
       "2572   Samsung        314       300+"
      ]
     },
     "execution_count": 132,
     "metadata": {},
     "output_type": "execute_result"
    }
   ],
   "source": [
    "brandWith100andMore= withoutNaNBrandProdGroup[withoutNaNBrandProdGroup.prodCount >300]\n",
    "brandWith100andMore = brandWith100andMore.sort_values(['prodCount'], ascending=False)\n",
    "brandWith100andMore "
   ]
  },
  {
   "cell_type": "markdown",
   "metadata": {},
   "source": [
    "Number of Sales"
   ]
  },
  {
   "cell_type": "code",
   "execution_count": 52,
   "metadata": {
    "collapsed": true
   },
   "outputs": [],
   "source": [
    "file_path = 'Documents\\DataMining/reviews_Electronics_5.json.gz'\n",
    "reviewData = loader.load_data(file_path)"
   ]
  },
  {
   "cell_type": "code",
   "execution_count": 54,
   "metadata": {
    "collapsed": true
   },
   "outputs": [],
   "source": [
    "reviewsData = reviewData[['reviewerID','asin','reviewText']].copy()\n",
    "del reviewData"
   ]
  },
  {
   "cell_type": "code",
   "execution_count": 56,
   "metadata": {
    "collapsed": true
   },
   "outputs": [],
   "source": [
    "def word_count(row):\n",
    "    str = row['reviewText']\n",
    "    tokens = str.split()\n",
    "    n_tokens = len(tokens)\n",
    "    return n_tokens\n",
    "reviewsData['wordCount'] = reviewsData.apply (lambda row: word_count (row),axis=1)"
   ]
  },
  {
   "cell_type": "code",
   "execution_count": 57,
   "metadata": {
    "collapsed": true
   },
   "outputs": [],
   "source": [
    "del reviewsData['reviewText']"
   ]
  },
  {
   "cell_type": "code",
   "execution_count": 69,
   "metadata": {
    "collapsed": true
   },
   "outputs": [],
   "source": [
    "brandDetail = brandData[['asin','brand']].copy()"
   ]
  },
  {
   "cell_type": "code",
   "execution_count": 70,
   "metadata": {
    "collapsed": true
   },
   "outputs": [],
   "source": [
    "brandDetail = pd.merge(reviewsData, brandDetail, on = \"asin\")"
   ]
  },
  {
   "cell_type": "code",
   "execution_count": 72,
   "metadata": {
    "collapsed": true
   },
   "outputs": [],
   "source": [
    "NonNaNBrandDetails = brandDetail.dropna(axis=0, how='any')"
   ]
  },
  {
   "cell_type": "code",
   "execution_count": 79,
   "metadata": {
    "collapsed": true
   },
   "outputs": [],
   "source": [
    "brandSale = NonNaNBrandDetails[['brand','reviewerID']].copy()"
   ]
  },
  {
   "cell_type": "code",
   "execution_count": 80,
   "metadata": {
    "collapsed": true
   },
   "outputs": [],
   "source": [
    "brandSale = brandSale[['brand','reviewerID']].groupby(['brand'], as_index=False).count()\n",
    "brandSale = brandSale.rename(columns = {'reviewerID':'SalesCount'})"
   ]
  },
  {
   "cell_type": "code",
   "execution_count": 91,
   "metadata": {
    "collapsed": true
   },
   "outputs": [],
   "source": [
    "bins = [0,4, 9, 19 ,29, 39,49, 74, 99, 149, 199, 249, 299, 499, 999,1999,2999,3999,4999,9999,14999,19999,24999,29999,34999,39999,99999]\n",
    "group_names = ['1+','5+', '10+' ,'20+','30+','40+', '50+', '75+','100+','150+','200+','250+','300+','500+','1000+','2000+','3000+','4000+','5000+','10000+','15000+','20000+','25000+','30000+','35000+','40000+']\n",
    "brandSale['SalesCountRange'] = pd.cut(brandSale['SalesCount'], bins, labels=group_names)"
   ]
  },
  {
   "cell_type": "code",
   "execution_count": 92,
   "metadata": {},
   "outputs": [
    {
     "data": {
      "text/plain": [
       "3525"
      ]
     },
     "execution_count": 92,
     "metadata": {},
     "output_type": "execute_result"
    }
   ],
   "source": [
    "brandSale.loc[:,'brand'].unique().shape[0]"
   ]
  },
  {
   "cell_type": "code",
   "execution_count": 146,
   "metadata": {},
   "outputs": [
    {
     "data": {
      "image/png": "[encoded data removed]",
      "text/plain": [
       "<matplotlib.figure.Figure at 0x1f124ed96d8>"
      ]
     },
     "metadata": {},
     "output_type": "display_data"
    }
   ],
   "source": [
    "plt.figure(figsize=(12, 8))\n",
    "brandSalePlot = brandSale.SalesCountRange.value_counts().plot(kind='bar')\n",
    "brandSalePlot.set_title(\"Number of Sales for each Brand\")\n",
    "brandSalePlot.set_xlabel(\"Sales Range\")\n",
    "brandSalePlot.set_ylabel(\"Brand Count\")\n",
    "rects = brandSalePlot.patches\n",
    "labels = [i for i in brandSale.SalesCountRange.value_counts()]\n",
    "for rect, label in zip(rects, labels):\n",
    "    height = rect.get_height()\n",
    "    brandSalePlot.text(rect.get_x() + rect.get_width()/2, height + 5, label, ha='center', va='bottom')\n",
    "    plt.savefig(\"PycharmProjects/Amazon-Mining/reports/Brand Analysis/brandSales.png\")"
   ]
  },
  {
   "cell_type": "code",
   "execution_count": 131,
   "metadata": {},
   "outputs": [
    {
     "data": {
      "text/html": [
       "<div>\n",
       "<style>\n",
       "    .dataframe thead tr:only-child th {\n",
       "        text-align: right;\n",
       "    }\n",
       "\n",
       "    .dataframe thead th {\n",
       "        text-align: left;\n",
       "    }\n",
       "\n",
       "    .dataframe tbody tr th {\n",
       "        vertical-align: top;\n",
       "    }\n",
       "</style>\n",
       "<table border=\"1\" class=\"dataframe\">\n",
       "  <thead>\n",
       "    <tr style=\"text-align: right;\">\n",
       "      <th></th>\n",
       "      <th>brand</th>\n",
       "      <th>SalesCount</th>\n",
       "      <th>SalesCountRange</th>\n",
       "    </tr>\n",
       "  </thead>\n",
       "  <tbody>\n",
       "    <tr>\n",
       "      <th>1772</th>\n",
       "      <td>Logitech</td>\n",
       "      <td>35324</td>\n",
       "      <td>35000+</td>\n",
       "    </tr>\n",
       "    <tr>\n",
       "      <th>2574</th>\n",
       "      <td>SanDisk</td>\n",
       "      <td>25545</td>\n",
       "      <td>25000+</td>\n",
       "    </tr>\n",
       "    <tr>\n",
       "      <th>573</th>\n",
       "      <td>Canon</td>\n",
       "      <td>23487</td>\n",
       "      <td>20000+</td>\n",
       "    </tr>\n",
       "    <tr>\n",
       "      <th>2718</th>\n",
       "      <td>Sony</td>\n",
       "      <td>22675</td>\n",
       "      <td>20000+</td>\n",
       "    </tr>\n",
       "    <tr>\n",
       "      <th>1231</th>\n",
       "      <td>Generic</td>\n",
       "      <td>17720</td>\n",
       "      <td>15000+</td>\n",
       "    </tr>\n",
       "    <tr>\n",
       "      <th>307</th>\n",
       "      <td>BELKIN</td>\n",
       "      <td>16945</td>\n",
       "      <td>15000+</td>\n",
       "    </tr>\n",
       "    <tr>\n",
       "      <th>3211</th>\n",
       "      <td>Western Digital</td>\n",
       "      <td>14632</td>\n",
       "      <td>10000+</td>\n",
       "    </tr>\n",
       "    <tr>\n",
       "      <th>2572</th>\n",
       "      <td>Samsung</td>\n",
       "      <td>14150</td>\n",
       "      <td>10000+</td>\n",
       "    </tr>\n",
       "    <tr>\n",
       "      <th>2075</th>\n",
       "      <td>Nikon</td>\n",
       "      <td>14000</td>\n",
       "      <td>10000+</td>\n",
       "    </tr>\n",
       "    <tr>\n",
       "      <th>255</th>\n",
       "      <td>Asus</td>\n",
       "      <td>13758</td>\n",
       "      <td>10000+</td>\n",
       "    </tr>\n",
       "    <tr>\n",
       "      <th>218</th>\n",
       "      <td>Apple</td>\n",
       "      <td>12629</td>\n",
       "      <td>10000+</td>\n",
       "    </tr>\n",
       "    <tr>\n",
       "      <th>2214</th>\n",
       "      <td>Panasonic</td>\n",
       "      <td>11257</td>\n",
       "      <td>10000+</td>\n",
       "    </tr>\n",
       "    <tr>\n",
       "      <th>586</th>\n",
       "      <td>Case Logic</td>\n",
       "      <td>10497</td>\n",
       "      <td>10000+</td>\n",
       "    </tr>\n",
       "    <tr>\n",
       "      <th>1212</th>\n",
       "      <td>Garmin</td>\n",
       "      <td>10207</td>\n",
       "      <td>10000+</td>\n",
       "    </tr>\n",
       "  </tbody>\n",
       "</table>\n",
       "</div>"
      ],
      "text/plain": [
       "                brand  SalesCount SalesCountRange\n",
       "1772         Logitech       35324          35000+\n",
       "2574          SanDisk       25545          25000+\n",
       "573             Canon       23487          20000+\n",
       "2718             Sony       22675          20000+\n",
       "1231          Generic       17720          15000+\n",
       "307            BELKIN       16945          15000+\n",
       "3211  Western Digital       14632          10000+\n",
       "2572          Samsung       14150          10000+\n",
       "2075            Nikon       14000          10000+\n",
       "255              Asus       13758          10000+\n",
       "218             Apple       12629          10000+\n",
       "2214        Panasonic       11257          10000+\n",
       "586        Case Logic       10497          10000+\n",
       "1212           Garmin       10207          10000+"
      ]
     },
     "execution_count": 131,
     "metadata": {},
     "output_type": "execute_result"
    }
   ],
   "source": [
    "desiredbrandSales = brandSale[brandSale.SalesCount >= 10000]\n",
    "desiredbrandSales = desiredbrandSales.sort_values(['SalesCount'], ascending=False)\n",
    "desiredbrandSales "
   ]
  },
  {
   "cell_type": "code",
   "execution_count": 107,
   "metadata": {
    "collapsed": true
   },
   "outputs": [],
   "source": [
    "brandpriceDetail = brandData[['asin','brand','price']].copy()"
   ]
  },
  {
   "cell_type": "code",
   "execution_count": 109,
   "metadata": {
    "collapsed": true
   },
   "outputs": [],
   "source": [
    "brandpriceDetail = pd.merge(reviewsData, brandpriceDetail, on = \"asin\")"
   ]
  },
  {
   "cell_type": "code",
   "execution_count": 110,
   "metadata": {
    "collapsed": true
   },
   "outputs": [],
   "source": [
    "NonNanBrandPriceDetail = brandpriceDetail.dropna(axis=0, how='any')"
   ]
  },
  {
   "cell_type": "code",
   "execution_count": 112,
   "metadata": {
    "collapsed": true
   },
   "outputs": [],
   "source": [
    "NonNanBrandPriceDetail = NonNanBrandPriceDetail[['brand','price']].copy()\n",
    "\n",
    "NonNanBrandPriceDetail= NonNanBrandPriceDetail[['brand','price']].groupby(['brand'], as_index=False).sum()"
   ]
  },
  {
   "cell_type": "code",
   "execution_count": 119,
   "metadata": {
    "collapsed": true
   },
   "outputs": [],
   "source": [
    "bins = [0, 999,4999,9999,24999,49999,99999,999999,4999999,9999999]\n",
    "group_names = ['1+','1000+','5000+','10000+','25000+','50000+','100000+','1000000+','5000000+']\n",
    "NonNanBrandPriceDetail['profitRange'] = pd.cut(NonNanBrandPriceDetail['price'], bins, labels=group_names)"
   ]
  },
  {
   "cell_type": "code",
   "execution_count": 145,
   "metadata": {},
   "outputs": [
    {
     "data": {
      "image/png": "[encoded data removed]",
      "text/plain": [
       "<matplotlib.figure.Figure at 0x1f175cf5ba8>"
      ]
     },
     "metadata": {},
     "output_type": "display_data"
    }
   ],
   "source": [
    "plt.figure(figsize=(12, 8))\n",
    "brandProfitPlot = NonNanBrandPriceDetail.profitRange.value_counts().plot(kind='bar')\n",
    "brandProfitPlot.set_title(\"Earning By each Brand\")\n",
    "brandProfitPlot.set_xlabel(\"Earning Range\")\n",
    "brandProfitPlot.set_ylabel(\"Brand Count\")\n",
    "rects = brandProfitPlot.patches\n",
    "labels = [i for i in NonNanBrandPriceDetail.profitRange.value_counts()]\n",
    "for rect, label in zip(rects, labels):\n",
    "    height = rect.get_height()\n",
    "    brandProfitPlot.text(rect.get_x() + rect.get_width()/2, height + 5, label, ha='center', va='bottom')\n",
    "    plt.savefig(\"PycharmProjects/Amazon-Mining/reports/Brand Analysis/brandEarning.png\")"
   ]
  },
  {
   "cell_type": "code",
   "execution_count": 133,
   "metadata": {},
   "outputs": [
    {
     "data": {
      "text/html": [
       "<div>\n",
       "<style>\n",
       "    .dataframe thead tr:only-child th {\n",
       "        text-align: right;\n",
       "    }\n",
       "\n",
       "    .dataframe thead th {\n",
       "        text-align: left;\n",
       "    }\n",
       "\n",
       "    .dataframe tbody tr th {\n",
       "        vertical-align: top;\n",
       "    }\n",
       "</style>\n",
       "<table border=\"1\" class=\"dataframe\">\n",
       "  <thead>\n",
       "    <tr style=\"text-align: right;\">\n",
       "      <th></th>\n",
       "      <th>brand</th>\n",
       "      <th>Earnings</th>\n",
       "      <th>profitRange</th>\n",
       "    </tr>\n",
       "  </thead>\n",
       "  <tbody>\n",
       "    <tr>\n",
       "      <th>571</th>\n",
       "      <td>Canon</td>\n",
       "      <td>5.783117e+06</td>\n",
       "      <td>5000000+</td>\n",
       "    </tr>\n",
       "    <tr>\n",
       "      <th>2069</th>\n",
       "      <td>Nikon</td>\n",
       "      <td>3.037512e+06</td>\n",
       "      <td>1000000+</td>\n",
       "    </tr>\n",
       "    <tr>\n",
       "      <th>1766</th>\n",
       "      <td>Logitech</td>\n",
       "      <td>2.944010e+06</td>\n",
       "      <td>1000000+</td>\n",
       "    </tr>\n",
       "    <tr>\n",
       "      <th>2709</th>\n",
       "      <td>Sony</td>\n",
       "      <td>2.899935e+06</td>\n",
       "      <td>1000000+</td>\n",
       "    </tr>\n",
       "    <tr>\n",
       "      <th>2563</th>\n",
       "      <td>Samsung</td>\n",
       "      <td>2.535892e+06</td>\n",
       "      <td>1000000+</td>\n",
       "    </tr>\n",
       "    <tr>\n",
       "      <th>253</th>\n",
       "      <td>Asus</td>\n",
       "      <td>2.410538e+06</td>\n",
       "      <td>1000000+</td>\n",
       "    </tr>\n",
       "    <tr>\n",
       "      <th>217</th>\n",
       "      <td>Apple</td>\n",
       "      <td>2.147881e+06</td>\n",
       "      <td>1000000+</td>\n",
       "    </tr>\n",
       "    <tr>\n",
       "      <th>2206</th>\n",
       "      <td>Panasonic</td>\n",
       "      <td>1.518845e+06</td>\n",
       "      <td>1000000+</td>\n",
       "    </tr>\n",
       "    <tr>\n",
       "      <th>3202</th>\n",
       "      <td>Western Digital</td>\n",
       "      <td>1.506081e+06</td>\n",
       "      <td>1000000+</td>\n",
       "    </tr>\n",
       "    <tr>\n",
       "      <th>1209</th>\n",
       "      <td>Garmin</td>\n",
       "      <td>1.400611e+06</td>\n",
       "      <td>1000000+</td>\n",
       "    </tr>\n",
       "  </tbody>\n",
       "</table>\n",
       "</div>"
      ],
      "text/plain": [
       "                brand      Earnings profitRange\n",
       "571             Canon  5.783117e+06    5000000+\n",
       "2069            Nikon  3.037512e+06    1000000+\n",
       "1766         Logitech  2.944010e+06    1000000+\n",
       "2709             Sony  2.899935e+06    1000000+\n",
       "2563          Samsung  2.535892e+06    1000000+\n",
       "253              Asus  2.410538e+06    1000000+\n",
       "217             Apple  2.147881e+06    1000000+\n",
       "2206        Panasonic  1.518845e+06    1000000+\n",
       "3202  Western Digital  1.506081e+06    1000000+\n",
       "1209           Garmin  1.400611e+06    1000000+"
      ]
     },
     "execution_count": 133,
     "metadata": {},
     "output_type": "execute_result"
    }
   ],
   "source": [
    "desiredEarn_row = NonNanBrandPriceDetail[NonNanBrandPriceDetail.price >1000000]\n",
    "desiredEarn_row = desiredEarn_row.sort_values(['price'], ascending=False)\n",
    "desiredEarn_row = desiredEarn_row.rename(columns = {'price':'Earnings'})\n",
    "desiredEarn_row"
   ]
  },
  {
   "cell_type": "code",
   "execution_count": null,
   "metadata": {
    "collapsed": true
   },
   "outputs": [],
   "source": []
  }
 ],
 "metadata": {
  "kernelspec": {
   "display_name": "Python 3",
   "language": "python",
   "name": "python3"
  },
  "language_info": {
   "codemirror_mode": {
    "name": "ipython",
    "version": 3
   },
   "file_extension": ".py",
   "mimetype": "text/x-python",
   "name": "python",
   "nbconvert_exporter": "python",
   "pygments_lexer": "ipython3",
   "version": "3.6.3"
  }
 },
 "nbformat": 4,
 "nbformat_minor": 2
}
