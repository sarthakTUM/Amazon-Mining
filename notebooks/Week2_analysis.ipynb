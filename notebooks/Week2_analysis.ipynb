{
 "cells": [
  {
   "cell_type": "code",
   "execution_count": 1,
   "metadata": {
    "collapsed": true
   },
   "outputs": [],
   "source": [
    "import numpy as np\n",
    "import pandas as pd\n",
    "%matplotlib inline\n",
    "import matplotlib.pyplot as plt\n",
    "import plotly.plotly as py\n",
    "#py.set_credentials_file(username='raoshaheryarkhan', api_key='KswnKD2cSzUMp6zxf25p')\n",
    "import plotly.figure_factory as ff\n",
    "import math\n",
    "from datetime import datetime\n",
    "import sys\n",
    "import os"
   ]
  },
  {
   "cell_type": "code",
   "execution_count": 2,
   "metadata": {
    "collapsed": true
   },
   "outputs": [],
   "source": [
    "import sys\n",
    "project_path = \"/home/aamna/Documents/apc/Amazon-Mining\"\n",
    "# make sure to use position 1\n",
    "sys.path.insert(1, project_path)"
   ]
  },
  {
   "cell_type": "code",
   "execution_count": 3,
   "metadata": {
    "collapsed": true
   },
   "outputs": [],
   "source": [
    "from src.data.json_loader import JSONLoader"
   ]
  },
  {
   "cell_type": "code",
   "execution_count": null,
   "metadata": {
    "collapsed": true
   },
   "outputs": [],
   "source": [
    "# file_path corresponds to the file of the .gz file which contains the JSON file. \n",
    "file_path = '/home/aamna/Documents/apc/reviews_Electronics_5.json.gz'\n",
    "metadata_path='/home/aamna/Documents/apc/meta_Electronics.json.gz'\n",
    "loader = JSONLoader()"
   ]
  },
  {
   "cell_type": "code",
   "execution_count": null,
   "metadata": {
    "collapsed": true
   },
   "outputs": [],
   "source": [
    "data = loader.load_data(file_path)\n",
    "#product=loader.load_data(metadata_path)"
   ]
  },
  {
   "cell_type": "code",
   "execution_count": null,
   "metadata": {},
   "outputs": [],
   "source": [
    "data"
   ]
  },
  {
   "cell_type": "code",
   "execution_count": null,
   "metadata": {
    "collapsed": true
   },
   "outputs": [],
   "source": [
    "data.reviewTime = data.reviewTime .astype(str)\n",
    "data['Year']=(data['reviewTime'].str[-4:])\n",
    "data['Month']=(data['reviewTime'].str[0:2])\n",
    "data['Day']=(data['reviewTime'].str[2:5])\n",
    "data['Day']=data['Day'].str.replace(',','')\n",
    "data['helpfulness_ratio']=(data['helpful'].str[0])/(data['helpful'].str[1])\n",
    "data['review_length']=data['reviewText'].str.len()\n"
   ]
  },
  {
   "cell_type": "code",
   "execution_count": null,
   "metadata": {
    "collapsed": true
   },
   "outputs": [],
   "source": [
    "def word_count(row):\n",
    "    str=row['reviewText']\n",
    "    tokens=str.split()\n",
    "    n_tokens=len(tokens)\n",
    "    return n_tokens\n"
   ]
  },
  {
   "cell_type": "code",
   "execution_count": null,
   "metadata": {
    "collapsed": true
   },
   "outputs": [],
   "source": [
    "data['Wordcount'] = data.apply(lambda row :word_count(row), axis=1)"
   ]
  },
  {
   "cell_type": "code",
   "execution_count": null,
   "metadata": {
    "collapsed": true
   },
   "outputs": [],
   "source": [
    "def f(row):\n",
    "    if row['overall'] == 3.0:\n",
    "        val = 'Neutral'\n",
    "    elif row['overall'] > 3.0:\n",
    "        val = 'Positive'\n",
    "    else:\n",
    "        val = 'Negative'\n",
    "    return val"
   ]
  },
  {
   "cell_type": "code",
   "execution_count": null,
   "metadata": {
    "collapsed": true
   },
   "outputs": [],
   "source": [
    "data['Reviewcategory'] = data.apply(f, axis=1)"
   ]
  },
  {
   "cell_type": "code",
   "execution_count": null,
   "metadata": {
    "collapsed": true
   },
   "outputs": [],
   "source": [
    "data['helpful']=data['helpful'].astype(str)\n",
    "data['a'] = data['helpful'].apply(lambda x: x.split(',')[0])\n",
    "data['b'] = data['helpful'].apply(lambda x: x.split(',')[1])\n",
    "data['num']=data['a'].map(lambda x: x.lstrip('['))\n",
    "data['deno']=data['b'].map(lambda x: x.rstrip(']'))\n",
    "data['helpful_votes']=data['num'].astype(int)\n",
    "data['total_votes']=data['deno'].astype(int)\n",
    "data['unhelpful_votes']=data['total_votes'] - data['helpful_votes']\n",
    "data['overall_helpfulness']=data['helpful_votes'] - data['unhelpful_votes']"
   ]
  },
  {
   "cell_type": "code",
   "execution_count": null,
   "metadata": {},
   "outputs": [],
   "source": [
    "data"
   ]
  },
  {
   "cell_type": "code",
   "execution_count": null,
   "metadata": {
    "collapsed": true
   },
   "outputs": [],
   "source": [
    "data=data.drop('a', 1)\n",
    "data=data.drop('b', 1)\n",
    "data=data.drop('num', 1)\n",
    "data=data.drop('deno', 1)"
   ]
  },
  {
   "cell_type": "code",
   "execution_count": null,
   "metadata": {},
   "outputs": [],
   "source": [
    "data"
   ]
  },
  {
   "cell_type": "code",
   "execution_count": null,
   "metadata": {
    "collapsed": true
   },
   "outputs": [],
   "source": [
    "\n",
    "\n",
    "meanReview = data[['reviewerID','overall']].groupby(['reviewerID'],as_index=False).mean()\n",
    "meanReview = meanReview.rename(columns = {'overall':'Avgrating'})\n",
    "\n"
   ]
  },
  {
   "cell_type": "code",
   "execution_count": null,
   "metadata": {
    "collapsed": true
   },
   "outputs": [],
   "source": [
    "reviewerCount = data[['reviewerID','asin']].groupby(['reviewerID'], as_index=False).count()\n",
    "reviewerCount = reviewerCount.rename(columns = {'asin':'reviewCount'})\n",
    "reviewer = pd.merge(reviewerCount, meanReview, on = \"reviewerID\")"
   ]
  },
  {
   "cell_type": "code",
   "execution_count": null,
   "metadata": {
    "collapsed": true
   },
   "outputs": [],
   "source": [
    "meanwordCount = data[['reviewerID','Wordcount']].groupby(['reviewerID'], as_index=False).mean()\n",
    "meanwordCount = meanwordCount.rename(columns = {'Wordcount':'avg_wordcount'})\n",
    "reviewer = pd.merge(reviewer, meanwordCount, on = \"reviewerID\")"
   ]
  },
  {
   "cell_type": "code",
   "execution_count": null,
   "metadata": {
    "collapsed": true
   },
   "outputs": [],
   "source": [
    "def to_YYYYMMDD(row):   \n",
    "    datetime_object = datetime.strptime(row['reviewTime'], '%m %d, %Y').date()\n",
    "    return datetime.strftime(datetime_object, \"%Y%m%d\")\n"
   ]
  },
  {
   "cell_type": "code",
   "execution_count": null,
   "metadata": {
    "collapsed": true
   },
   "outputs": [],
   "source": [
    "\n",
    "\n",
    "data['date(YYYYMMDD)'] = data.apply (lambda row: to_YYYYMMDD (row),axis=1)\n",
    "\n"
   ]
  },
  {
   "cell_type": "code",
   "execution_count": null,
   "metadata": {},
   "outputs": [],
   "source": [
    "reviewerData = data[['reviewerID','reviewerName','date(YYYYMMDD)']].copy()\n",
    "reviewerData "
   ]
  },
  {
   "cell_type": "code",
   "execution_count": null,
   "metadata": {
    "collapsed": true
   },
   "outputs": [],
   "source": [
    "reviewerData = reviewerData.groupby('reviewerID').apply(lambda x: x.sort_values('date(YYYYMMDD)'))"
   ]
  },
  {
   "cell_type": "code",
   "execution_count": null,
   "metadata": {
    "collapsed": true
   },
   "outputs": [],
   "source": [
    "\n",
    "\n",
    "del reviewerData['reviewerID']\n",
    "temp = reviewerData\n",
    "temp = temp.groupby('reviewerID').head(1)\n",
    "\n"
   ]
  },
  {
   "cell_type": "code",
   "execution_count": null,
   "metadata": {
    "collapsed": true
   },
   "outputs": [],
   "source": [
    "\n",
    "\n",
    "temp = temp.reset_index()\n",
    "del temp['level_1']\n",
    "\n"
   ]
  },
  {
   "cell_type": "code",
   "execution_count": null,
   "metadata": {
    "collapsed": true
   },
   "outputs": [],
   "source": [
    "reviewer_df = pd.merge(temp, reviewer, on = \"reviewerID\")"
   ]
  },
  {
   "cell_type": "code",
   "execution_count": null,
   "metadata": {
    "collapsed": true
   },
   "outputs": [],
   "source": [
    "sum_helpful_votes = data[['reviewerID','helpful_votes']].groupby(['reviewerID'],as_index=False).sum()\n",
    "sum_helpful_votes = sum_helpful_votes .rename(columns = {'helpful_votes':'sum_helpful_votes'})"
   ]
  },
  {
   "cell_type": "code",
   "execution_count": null,
   "metadata": {
    "collapsed": true
   },
   "outputs": [],
   "source": [
    "sum_unhelpful_votes = data[['reviewerID','unhelpful_votes']].groupby(['reviewerID'],as_index=False).sum()\n",
    "sum_unhelpful_votes = sum_unhelpful_votes .rename(columns = {'unhelpful_votes':'sum_unhelpful_votes'})"
   ]
  },
  {
   "cell_type": "code",
   "execution_count": null,
   "metadata": {
    "collapsed": true
   },
   "outputs": [],
   "source": [
    "reviewer_df = pd.merge(reviewer_df, sum_helpful_votes, on = \"reviewerID\")"
   ]
  },
  {
   "cell_type": "code",
   "execution_count": null,
   "metadata": {
    "collapsed": true
   },
   "outputs": [],
   "source": [
    "reviewer_df = pd.merge(reviewer_df, sum_unhelpful_votes, on = \"reviewerID\")"
   ]
  },
  {
   "cell_type": "code",
   "execution_count": null,
   "metadata": {
    "collapsed": true
   },
   "outputs": [],
   "source": [
    "reviewer_df['total_votes']=reviewer_df['sum_helpful_votes'] + reviewer_df['sum_unhelpful_votes']"
   ]
  },
  {
   "cell_type": "code",
   "execution_count": null,
   "metadata": {
    "collapsed": true
   },
   "outputs": [],
   "source": [
    "reviewer_df['overall_helpfulness']=reviewer_df['sum_helpful_votes'] - reviewer_df['sum_unhelpful_votes']"
   ]
  },
  {
   "cell_type": "code",
   "execution_count": null,
   "metadata": {},
   "outputs": [],
   "source": [
    "reviewer_df"
   ]
  },
  {
   "cell_type": "code",
   "execution_count": null,
   "metadata": {
    "collapsed": true
   },
   "outputs": [],
   "source": [
    "reviewer_df.to_csv('reviwer_df.csv',index=False)"
   ]
  },
  {
   "cell_type": "code",
   "execution_count": null,
   "metadata": {},
   "outputs": [],
   "source": [
    "meanReview_yearly = data.groupby(['reviewerID', 'Year'])['overall'].mean().reset_index()\n",
    "meanReview_yearly "
   ]
  },
  {
   "cell_type": "code",
   "execution_count": null,
   "metadata": {
    "collapsed": true
   },
   "outputs": [],
   "source": [
    "meanReview_yearly.to_csv('yearly.csv',index=False)"
   ]
  }
 ],
 "metadata": {
  "kernelspec": {
   "display_name": "Python 3",
   "language": "python",
   "name": "python3"
  },
  "language_info": {
   "codemirror_mode": {
    "name": "ipython",
    "version": 3
   },
   "file_extension": ".py",
   "mimetype": "text/x-python",
   "name": "python",
   "nbconvert_exporter": "python",
   "pygments_lexer": "ipython3",
   "version": "3.5.2"
  }
 },
 "nbformat": 4,
 "nbformat_minor": 2
}
