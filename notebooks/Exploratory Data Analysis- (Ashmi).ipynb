{
 "cells": [
  {
   "cell_type": "markdown",
   "metadata": {},
   "source": [
    "## Data Loading"
   ]
  },
  {
   "cell_type": "code",
   "execution_count": 1,
   "metadata": {
    "collapsed": true
   },
   "outputs": [],
   "source": [
    "import matplotlib.pyplot as plt\n",
    "from collections import defaultdict\n",
    "# from wordcloud import WordCloud\n",
    "import pandas as pd\n",
    "import plotly.figure_factory as ff\n",
    "# from src.model import apriori\n",
    "import numpy as np\n",
    "\n",
    "import plotly.plotly as py "
   ]
  },
  {
   "cell_type": "code",
   "execution_count": 2,
   "metadata": {
    "collapsed": true
   },
   "outputs": [],
   "source": [
    "import sys\n",
    "project_path = \"/home/ashmi/Amazon-Mining\"\n",
    "# make sure to use position 1\n",
    "sys.path.insert(1, project_path)"
   ]
  },
  {
   "cell_type": "code",
   "execution_count": 3,
   "metadata": {
    "collapsed": true
   },
   "outputs": [],
   "source": [
    "from src.data.json_loader import JSONLoader"
   ]
  },
  {
   "cell_type": "code",
   "execution_count": 4,
   "metadata": {
    "collapsed": true
   },
   "outputs": [],
   "source": [
    "# file_path corresponds to the file of the .gz file which contains the JSON file. \n",
    "file_path = '/home/ashmi/Desktop/Amazondata/meta_Electronics.json.gz'\n",
    "loader = JSONLoader()"
   ]
  },
  {
   "cell_type": "markdown",
   "metadata": {},
   "source": [
    "## Exploration"
   ]
  },
  {
   "cell_type": "code",
   "execution_count": 5,
   "metadata": {
    "collapsed": true
   },
   "outputs": [],
   "source": [
    "data = loader.load_data(file_path)"
   ]
  },
  {
   "cell_type": "code",
   "execution_count": 6,
   "metadata": {},
   "outputs": [
    {
     "data": {
      "text/html": [
       "<div>\n",
       "<style>\n",
       "    .dataframe thead tr:only-child th {\n",
       "        text-align: right;\n",
       "    }\n",
       "\n",
       "    .dataframe thead th {\n",
       "        text-align: left;\n",
       "    }\n",
       "\n",
       "    .dataframe tbody tr th {\n",
       "        vertical-align: top;\n",
       "    }\n",
       "</style>\n",
       "<table border=\"1\" class=\"dataframe\">\n",
       "  <thead>\n",
       "    <tr style=\"text-align: right;\">\n",
       "      <th></th>\n",
       "      <th>description</th>\n",
       "      <th>title</th>\n",
       "      <th>categories</th>\n",
       "      <th>imUrl</th>\n",
       "      <th>asin</th>\n",
       "      <th>salesRank</th>\n",
       "      <th>price</th>\n",
       "      <th>related</th>\n",
       "      <th>brand</th>\n",
       "    </tr>\n",
       "  </thead>\n",
       "  <tbody>\n",
       "    <tr>\n",
       "      <th>0</th>\n",
       "      <td>The Kelby Training DVD Mastering Blend Modes i...</td>\n",
       "      <td>Kelby Training DVD: Mastering Blend Modes in A...</td>\n",
       "      <td>[[Electronics, Computers &amp; Accessories, Cables...</td>\n",
       "      <td>http://ecx.images-amazon.com/images/I/31JIPhp%...</td>\n",
       "      <td>0132793040</td>\n",
       "      <td>NaN</td>\n",
       "      <td>NaN</td>\n",
       "      <td>NaN</td>\n",
       "      <td>NaN</td>\n",
       "    </tr>\n",
       "    <tr>\n",
       "      <th>1</th>\n",
       "      <td>NaN</td>\n",
       "      <td>Kelby Training DVD: Adobe Photoshop CS5 Crash ...</td>\n",
       "      <td>[[Electronics, Computers &amp; Accessories, Cables...</td>\n",
       "      <td>http://ecx.images-amazon.com/images/I/31uogm6Y...</td>\n",
       "      <td>0321732944</td>\n",
       "      <td>NaN</td>\n",
       "      <td>NaN</td>\n",
       "      <td>NaN</td>\n",
       "      <td>NaN</td>\n",
       "    </tr>\n",
       "    <tr>\n",
       "      <th>2</th>\n",
       "      <td>Digital Organizer and Messenger</td>\n",
       "      <td>Digital Organizer and Messenger</td>\n",
       "      <td>[[Electronics, Computers &amp; Accessories, PDAs, ...</td>\n",
       "      <td>http://ecx.images-amazon.com/images/I/51k0qa8f...</td>\n",
       "      <td>0439886341</td>\n",
       "      <td>{'Electronics': 144944}</td>\n",
       "      <td>8.15</td>\n",
       "      <td>{'also_viewed': ['0545016266', 'B009ECM8QY', '...</td>\n",
       "      <td>NaN</td>\n",
       "    </tr>\n",
       "    <tr>\n",
       "      <th>3</th>\n",
       "      <td>The CLIKR-5 UR5U-8780L remote control is desig...</td>\n",
       "      <td>CLIKR-5 Time Warner Cable Remote Control UR5U-...</td>\n",
       "      <td>[[Electronics, Accessories &amp; Supplies, Audio &amp;...</td>\n",
       "      <td>http://ecx.images-amazon.com/images/I/41HaAhbv...</td>\n",
       "      <td>0511189877</td>\n",
       "      <td>NaN</td>\n",
       "      <td>23.36</td>\n",
       "      <td>{'buy_after_viewing': ['B001KC08A4', 'B00KUL8O...</td>\n",
       "      <td>NaN</td>\n",
       "    </tr>\n",
       "    <tr>\n",
       "      <th>4</th>\n",
       "      <td>Like its award-winning predecessor, the Intell...</td>\n",
       "      <td>Rand McNally 528881469 7-inch Intelliroute TND...</td>\n",
       "      <td>[[Electronics, GPS &amp; Navigation, Vehicle GPS, ...</td>\n",
       "      <td>http://ecx.images-amazon.com/images/I/51FnRkJq...</td>\n",
       "      <td>0528881469</td>\n",
       "      <td>NaN</td>\n",
       "      <td>299.99</td>\n",
       "      <td>{'buy_after_viewing': ['B006ZOI9OY', 'B00C7FKT...</td>\n",
       "      <td>NaN</td>\n",
       "    </tr>\n",
       "  </tbody>\n",
       "</table>\n",
       "</div>"
      ],
      "text/plain": [
       "                                         description  \\\n",
       "0  The Kelby Training DVD Mastering Blend Modes i...   \n",
       "1                                                NaN   \n",
       "2                    Digital Organizer and Messenger   \n",
       "3  The CLIKR-5 UR5U-8780L remote control is desig...   \n",
       "4  Like its award-winning predecessor, the Intell...   \n",
       "\n",
       "                                               title  \\\n",
       "0  Kelby Training DVD: Mastering Blend Modes in A...   \n",
       "1  Kelby Training DVD: Adobe Photoshop CS5 Crash ...   \n",
       "2                    Digital Organizer and Messenger   \n",
       "3  CLIKR-5 Time Warner Cable Remote Control UR5U-...   \n",
       "4  Rand McNally 528881469 7-inch Intelliroute TND...   \n",
       "\n",
       "                                          categories  \\\n",
       "0  [[Electronics, Computers & Accessories, Cables...   \n",
       "1  [[Electronics, Computers & Accessories, Cables...   \n",
       "2  [[Electronics, Computers & Accessories, PDAs, ...   \n",
       "3  [[Electronics, Accessories & Supplies, Audio &...   \n",
       "4  [[Electronics, GPS & Navigation, Vehicle GPS, ...   \n",
       "\n",
       "                                               imUrl        asin  \\\n",
       "0  http://ecx.images-amazon.com/images/I/31JIPhp%...  0132793040   \n",
       "1  http://ecx.images-amazon.com/images/I/31uogm6Y...  0321732944   \n",
       "2  http://ecx.images-amazon.com/images/I/51k0qa8f...  0439886341   \n",
       "3  http://ecx.images-amazon.com/images/I/41HaAhbv...  0511189877   \n",
       "4  http://ecx.images-amazon.com/images/I/51FnRkJq...  0528881469   \n",
       "\n",
       "                 salesRank   price  \\\n",
       "0                      NaN     NaN   \n",
       "1                      NaN     NaN   \n",
       "2  {'Electronics': 144944}    8.15   \n",
       "3                      NaN   23.36   \n",
       "4                      NaN  299.99   \n",
       "\n",
       "                                             related brand  \n",
       "0                                                NaN   NaN  \n",
       "1                                                NaN   NaN  \n",
       "2  {'also_viewed': ['0545016266', 'B009ECM8QY', '...   NaN  \n",
       "3  {'buy_after_viewing': ['B001KC08A4', 'B00KUL8O...   NaN  \n",
       "4  {'buy_after_viewing': ['B006ZOI9OY', 'B00C7FKT...   NaN  "
      ]
     },
     "execution_count": 6,
     "metadata": {},
     "output_type": "execute_result"
    }
   ],
   "source": [
    "data.head()"
   ]
  },
  {
   "cell_type": "code",
   "execution_count": 7,
   "metadata": {},
   "outputs": [
    {
     "data": {
      "text/html": [
       "<div>\n",
       "<style>\n",
       "    .dataframe thead tr:only-child th {\n",
       "        text-align: right;\n",
       "    }\n",
       "\n",
       "    .dataframe thead th {\n",
       "        text-align: left;\n",
       "    }\n",
       "\n",
       "    .dataframe tbody tr th {\n",
       "        vertical-align: top;\n",
       "    }\n",
       "</style>\n",
       "<table border=\"1\" class=\"dataframe\">\n",
       "  <thead>\n",
       "    <tr style=\"text-align: right;\">\n",
       "      <th></th>\n",
       "      <th>description</th>\n",
       "      <th>title</th>\n",
       "      <th>categories</th>\n",
       "      <th>imUrl</th>\n",
       "      <th>asin</th>\n",
       "      <th>salesRank</th>\n",
       "      <th>price</th>\n",
       "      <th>related</th>\n",
       "      <th>brand</th>\n",
       "    </tr>\n",
       "  </thead>\n",
       "  <tbody>\n",
       "    <tr>\n",
       "      <th>498191</th>\n",
       "      <td>Vehicle suction cup mount (replacement) NOTICE...</td>\n",
       "      <td>Suction Cup Mount</td>\n",
       "      <td>[[Electronics, GPS &amp; Navigation, GPS System Ac...</td>\n",
       "      <td>http://ecx.images-amazon.com/images/I/313e6SJm...</td>\n",
       "      <td>BT008V9J9U</td>\n",
       "      <td>NaN</td>\n",
       "      <td>21.99</td>\n",
       "      <td>{'buy_after_viewing': ['B000EPFCC2']}</td>\n",
       "      <td>Garmin</td>\n",
       "    </tr>\n",
       "    <tr>\n",
       "      <th>498192</th>\n",
       "      <td>Quatech - 1 Port PCMCIA to DB-25 Parallel Adap...</td>\n",
       "      <td>Parallel PCMCIA Card 1PORT Epp</td>\n",
       "      <td>[[Electronics, Computers &amp; Accessories, Cables...</td>\n",
       "      <td>http://ecx.images-amazon.com/images/I/31oF9oNv...</td>\n",
       "      <td>BT008SXQ4C</td>\n",
       "      <td>NaN</td>\n",
       "      <td>23.99</td>\n",
       "      <td>{'buy_after_viewing': ['B000SR2H4W', 'B001Q7X0...</td>\n",
       "      <td>NaN</td>\n",
       "    </tr>\n",
       "    <tr>\n",
       "      <th>498193</th>\n",
       "      <td>C2G - 5m Ultma USB 2.0 A Mini B Cble</td>\n",
       "      <td>C2G / Cables to Go 5M Ultima USB 2.0 Cable</td>\n",
       "      <td>[[Electronics, Computers &amp; Accessories, Cables...</td>\n",
       "      <td>http://ecx.images-amazon.com/images/I/21WIrX5f...</td>\n",
       "      <td>BT008G3W52</td>\n",
       "      <td>NaN</td>\n",
       "      <td>18.91</td>\n",
       "      <td>{'buy_after_viewing': ['B007NLW3C2', 'B0002J2E...</td>\n",
       "      <td>C2G</td>\n",
       "    </tr>\n",
       "    <tr>\n",
       "      <th>498194</th>\n",
       "      <td>Keyboard drawer.</td>\n",
       "      <td>Underdesk Keyboard Drawer</td>\n",
       "      <td>[[Electronics, Computers &amp; Accessories, Cables...</td>\n",
       "      <td>http://ecx.images-amazon.com/images/I/41TNAVmf...</td>\n",
       "      <td>BT008UKTMW</td>\n",
       "      <td>NaN</td>\n",
       "      <td>25.54</td>\n",
       "      <td>{'also_viewed': ['B0002LD0ZY', 'B0002LCZP0', '...</td>\n",
       "      <td>Fellowes</td>\n",
       "    </tr>\n",
       "    <tr>\n",
       "      <th>498195</th>\n",
       "      <td>Garmin USB to R232 Converter CableUSB to RS232...</td>\n",
       "      <td>USB To R232 Converter Cable</td>\n",
       "      <td>[[Electronics, Computers &amp; Accessories, Cables...</td>\n",
       "      <td>http://ecx.images-amazon.com/images/I/41x-15rR...</td>\n",
       "      <td>BT008T2BGK</td>\n",
       "      <td>NaN</td>\n",
       "      <td>62.31</td>\n",
       "      <td>{'buy_after_viewing': ['B0007T27H8', 'B00425S1...</td>\n",
       "      <td>Garmin</td>\n",
       "    </tr>\n",
       "  </tbody>\n",
       "</table>\n",
       "</div>"
      ],
      "text/plain": [
       "                                              description  \\\n",
       "498191  Vehicle suction cup mount (replacement) NOTICE...   \n",
       "498192  Quatech - 1 Port PCMCIA to DB-25 Parallel Adap...   \n",
       "498193               C2G - 5m Ultma USB 2.0 A Mini B Cble   \n",
       "498194                                   Keyboard drawer.   \n",
       "498195  Garmin USB to R232 Converter CableUSB to RS232...   \n",
       "\n",
       "                                             title  \\\n",
       "498191                           Suction Cup Mount   \n",
       "498192              Parallel PCMCIA Card 1PORT Epp   \n",
       "498193  C2G / Cables to Go 5M Ultima USB 2.0 Cable   \n",
       "498194                   Underdesk Keyboard Drawer   \n",
       "498195                 USB To R232 Converter Cable   \n",
       "\n",
       "                                               categories  \\\n",
       "498191  [[Electronics, GPS & Navigation, GPS System Ac...   \n",
       "498192  [[Electronics, Computers & Accessories, Cables...   \n",
       "498193  [[Electronics, Computers & Accessories, Cables...   \n",
       "498194  [[Electronics, Computers & Accessories, Cables...   \n",
       "498195  [[Electronics, Computers & Accessories, Cables...   \n",
       "\n",
       "                                                    imUrl        asin  \\\n",
       "498191  http://ecx.images-amazon.com/images/I/313e6SJm...  BT008V9J9U   \n",
       "498192  http://ecx.images-amazon.com/images/I/31oF9oNv...  BT008SXQ4C   \n",
       "498193  http://ecx.images-amazon.com/images/I/21WIrX5f...  BT008G3W52   \n",
       "498194  http://ecx.images-amazon.com/images/I/41TNAVmf...  BT008UKTMW   \n",
       "498195  http://ecx.images-amazon.com/images/I/41x-15rR...  BT008T2BGK   \n",
       "\n",
       "       salesRank  price                                            related  \\\n",
       "498191       NaN  21.99              {'buy_after_viewing': ['B000EPFCC2']}   \n",
       "498192       NaN  23.99  {'buy_after_viewing': ['B000SR2H4W', 'B001Q7X0...   \n",
       "498193       NaN  18.91  {'buy_after_viewing': ['B007NLW3C2', 'B0002J2E...   \n",
       "498194       NaN  25.54  {'also_viewed': ['B0002LD0ZY', 'B0002LCZP0', '...   \n",
       "498195       NaN  62.31  {'buy_after_viewing': ['B0007T27H8', 'B00425S1...   \n",
       "\n",
       "           brand  \n",
       "498191    Garmin  \n",
       "498192       NaN  \n",
       "498193       C2G  \n",
       "498194  Fellowes  \n",
       "498195    Garmin  "
      ]
     },
     "execution_count": 7,
     "metadata": {},
     "output_type": "execute_result"
    }
   ],
   "source": [
    "data.tail()\n"
   ]
  },
  {
   "cell_type": "code",
   "execution_count": 8,
   "metadata": {},
   "outputs": [
    {
     "data": {
      "text/plain": [
       "(498196, 9)"
      ]
     },
     "execution_count": 8,
     "metadata": {},
     "output_type": "execute_result"
    }
   ],
   "source": [
    "data.shape"
   ]
  },
  {
   "cell_type": "code",
   "execution_count": 9,
   "metadata": {},
   "outputs": [
    {
     "data": {
      "text/html": [
       "<div>\n",
       "<style>\n",
       "    .dataframe thead tr:only-child th {\n",
       "        text-align: right;\n",
       "    }\n",
       "\n",
       "    .dataframe thead th {\n",
       "        text-align: left;\n",
       "    }\n",
       "\n",
       "    .dataframe tbody tr th {\n",
       "        vertical-align: top;\n",
       "    }\n",
       "</style>\n",
       "<table border=\"1\" class=\"dataframe\">\n",
       "  <thead>\n",
       "    <tr style=\"text-align: right;\">\n",
       "      <th></th>\n",
       "      <th>price</th>\n",
       "    </tr>\n",
       "  </thead>\n",
       "  <tbody>\n",
       "    <tr>\n",
       "      <th>count</th>\n",
       "      <td>389693.000000</td>\n",
       "    </tr>\n",
       "    <tr>\n",
       "      <th>mean</th>\n",
       "      <td>61.406786</td>\n",
       "    </tr>\n",
       "    <tr>\n",
       "      <th>std</th>\n",
       "      <td>119.118870</td>\n",
       "    </tr>\n",
       "    <tr>\n",
       "      <th>min</th>\n",
       "      <td>0.010000</td>\n",
       "    </tr>\n",
       "    <tr>\n",
       "      <th>25%</th>\n",
       "      <td>9.950000</td>\n",
       "    </tr>\n",
       "    <tr>\n",
       "      <th>50%</th>\n",
       "      <td>19.990000</td>\n",
       "    </tr>\n",
       "    <tr>\n",
       "      <th>75%</th>\n",
       "      <td>51.950000</td>\n",
       "    </tr>\n",
       "    <tr>\n",
       "      <th>max</th>\n",
       "      <td>999.990000</td>\n",
       "    </tr>\n",
       "  </tbody>\n",
       "</table>\n",
       "</div>"
      ],
      "text/plain": [
       "               price\n",
       "count  389693.000000\n",
       "mean       61.406786\n",
       "std       119.118870\n",
       "min         0.010000\n",
       "25%         9.950000\n",
       "50%        19.990000\n",
       "75%        51.950000\n",
       "max       999.990000"
      ]
     },
     "execution_count": 9,
     "metadata": {},
     "output_type": "execute_result"
    }
   ],
   "source": [
    "data.describe()"
   ]
  },
  {
   "cell_type": "code",
   "execution_count": 10,
   "metadata": {},
   "outputs": [
    {
     "name": "stdout",
     "output_type": "stream",
     "text": [
      "description     object\n",
      "title           object\n",
      "categories      object\n",
      "imUrl           object\n",
      "asin            object\n",
      "salesRank       object\n",
      "price          float64\n",
      "related         object\n",
      "brand           object\n",
      "dtype: object\n"
     ]
    }
   ],
   "source": [
    "dtypes = data.dtypes\n",
    "print(dtypes)"
   ]
  },
  {
   "cell_type": "code",
   "execution_count": 11,
   "metadata": {},
   "outputs": [
    {
     "name": "stdout",
     "output_type": "stream",
     "text": [
      "       feature     type\n",
      "0  description   object\n",
      "1        title   object\n",
      "2   categories   object\n",
      "3        imUrl   object\n",
      "4         asin   object\n",
      "5    salesRank   object\n",
      "6        price  float64\n",
      "7      related   object\n",
      "8        brand   object\n"
     ]
    }
   ],
   "source": [
    "dtypes_df = pd.DataFrame({'feature':dtypes.index, 'type':dtypes.values})\n",
    "print(dtypes_df)"
   ]
  },
  {
   "cell_type": "code",
   "execution_count": 12,
   "metadata": {
    "scrolled": true
   },
   "outputs": [
    {
     "name": "stdout",
     "output_type": "stream",
     "text": [
      "0            NaN\n",
      "1            NaN\n",
      "2           8.15\n",
      "3          23.36\n",
      "4         299.99\n",
      "5          13.95\n",
      "6          32.10\n",
      "7          78.83\n",
      "8          15.55\n",
      "9            NaN\n",
      "10         15.99\n",
      "11         12.95\n",
      "12           NaN\n",
      "13         11.50\n",
      "14           NaN\n",
      "15         49.95\n",
      "16          9.95\n",
      "17           NaN\n",
      "18          1.93\n",
      "19          0.94\n",
      "20         19.65\n",
      "21           NaN\n",
      "22          0.02\n",
      "23         22.50\n",
      "24        127.99\n",
      "25          4.99\n",
      "26          6.99\n",
      "27           NaN\n",
      "28          9.99\n",
      "29        111.60\n",
      "           ...  \n",
      "498166     17.99\n",
      "498167     33.99\n",
      "498168       NaN\n",
      "498169       NaN\n",
      "498170     44.95\n",
      "498171     99.00\n",
      "498172       NaN\n",
      "498173     78.99\n",
      "498174    599.99\n",
      "498175    169.90\n",
      "498176       NaN\n",
      "498177       NaN\n",
      "498178       NaN\n",
      "498179       NaN\n",
      "498180       NaN\n",
      "498181       NaN\n",
      "498182    429.00\n",
      "498183     33.95\n",
      "498184       NaN\n",
      "498185     79.95\n",
      "498186    466.99\n",
      "498187    417.98\n",
      "498188     39.99\n",
      "498189    199.99\n",
      "498190    130.00\n",
      "498191     21.99\n",
      "498192     23.99\n",
      "498193     18.91\n",
      "498194     25.54\n",
      "498195     62.31\n",
      "Name: price, Length: 498196, dtype: float64\n"
     ]
    }
   ],
   "source": [
    "print(data['price'])"
   ]
  },
  {
   "cell_type": "code",
   "execution_count": 13,
   "metadata": {},
   "outputs": [
    {
     "name": "stdout",
     "output_type": "stream",
     "text": [
      "<class 'numpy.float64'>\n",
      "498196\n"
     ]
    }
   ],
   "source": [
    "print(type(data['price'][0]))\n",
    "print(len(data))"
   ]
  },
  {
   "cell_type": "code",
   "execution_count": 14,
   "metadata": {},
   "outputs": [
    {
     "name": "stdout",
     "output_type": "stream",
     "text": [
      "<class 'float'>\n"
     ]
    }
   ],
   "source": [
    "print(type(data['brand'][0]))"
   ]
  },
  {
   "cell_type": "markdown",
   "metadata": {},
   "source": [
    "## Calculating the percentage of NaN in Price"
   ]
  },
  {
   "cell_type": "code",
   "execution_count": 15,
   "metadata": {},
   "outputs": [
    {
     "name": "stdout",
     "output_type": "stream",
     "text": [
      "Number of NaN= 108503\n",
      "Percentage of NaN=  21.779179278838047\n"
     ]
    }
   ],
   "source": [
    "import math\n",
    "count = 0\n",
    "for i in range(0,len(data)):\n",
    "    x = float(data['price'][i])\n",
    "    if (math.isnan(x)):\n",
    "        count = count + 1\n",
    "total = len(data)\n",
    "print(\"Number of NaN=\",count)\n",
    "percent = (count/total)*100\n",
    "print(\"Percentage of NaN= \",percent )\n"
   ]
  },
  {
   "cell_type": "markdown",
   "metadata": {},
   "source": [
    "## Calculating the number of NaN in each column"
   ]
  },
  {
   "cell_type": "code",
   "execution_count": 16,
   "metadata": {},
   "outputs": [
    {
     "name": "stdout",
     "output_type": "stream",
     "text": [
      "       feature  Number of NaNs\n",
      "0  description           38726\n",
      "1        title            7002\n",
      "2   categories               0\n",
      "3        imUrl             175\n",
      "4         asin               0\n",
      "5    salesRank          369490\n",
      "6        price          108503\n",
      "7      related          131237\n",
      "8        brand          355664\n"
     ]
    }
   ],
   "source": [
    "nans = data.isnull().sum()\n",
    "\n",
    "nans_df = pd.DataFrame({'feature':nans.index, 'Number of NaNs':nans.values})\n",
    "\n",
    "nans_df = nans_df[nans_df.columns[::-1]]\n",
    "\n",
    "print(nans_df)\n",
    "\n",
    "\n",
    "    "
   ]
  },
  {
   "cell_type": "markdown",
   "metadata": {},
   "source": [
    "## Cleaning the data ( removing the NaN in Price)"
   ]
  },
  {
   "cell_type": "code",
   "execution_count": 17,
   "metadata": {},
   "outputs": [
    {
     "name": "stdout",
     "output_type": "stream",
     "text": [
      "389693\n"
     ]
    }
   ],
   "source": [
    "data = data[np.isfinite(data['price'])]\n",
    "\n",
    "print(len(data))"
   ]
  },
  {
   "cell_type": "markdown",
   "metadata": {},
   "source": [
    "# Visualizations"
   ]
  },
  {
   "cell_type": "markdown",
   "metadata": {},
   "source": [
    "## Plotting the price distribution as a boxplot"
   ]
  },
  {
   "cell_type": "code",
   "execution_count": 18,
   "metadata": {},
   "outputs": [
    {
     "name": "stdout",
     "output_type": "stream",
     "text": [
      "<class 'pandas.core.series.Series'>\n",
      "<class 'numpy.ndarray'>\n",
      "[   8.15   23.36  299.99 ...,   18.91   25.54   62.31]\n"
     ]
    },
    {
     "data": {
      "image/png": "[encoded data removed]",
      "text/plain": [
       "<matplotlib.figure.Figure at 0x7f23f085f828>"
      ]
     },
     "metadata": {},
     "output_type": "display_data"
    },
    {
     "data": {
      "text/plain": [
       "<matplotlib.figure.Figure at 0x7f23f085f9e8>"
      ]
     },
     "metadata": {},
     "output_type": "display_data"
    }
   ],
   "source": [
    "x = (data['price'])\n",
    "print(type(x))\n",
    "x = x.values\n",
    "print(type(x))\n",
    "print(x)\n",
    "data.boxplot(column='price')\n",
    "# plt.boxplot(x)\n",
    "plt.figure()\n",
    "plt.show()\n",
    "\n"
   ]
  },
  {
   "cell_type": "code",
   "execution_count": 19,
   "metadata": {},
   "outputs": [
    {
     "name": "stdout",
     "output_type": "stream",
     "text": [
      "<class 'pandas.core.series.Series'>\n",
      "<class 'numpy.ndarray'>\n",
      "[   8.15   23.36  299.99 ...,   18.91   25.54   62.31]\n"
     ]
    },
    {
     "data": {
      "image/png": "[encoded data removed]",
      "text/plain": [
       "<matplotlib.figure.Figure at 0x7f23f36c9470>"
      ]
     },
     "metadata": {},
     "output_type": "display_data"
    }
   ],
   "source": [
    "x = (data['price'])\n",
    "print(type(x))\n",
    "x = x.values\n",
    "print(type(x))\n",
    "print(x)\n",
    "data.boxplot(column='price')\n",
    "\n",
    "fig = plt.plot()\n",
    "plt.savefig('prices_boxplot_plot.png')\n",
    "plt.show()"
   ]
  },
  {
   "cell_type": "raw",
   "metadata": {},
   "source": [
    "Since the price data has a very high variance, hence box plot is not very efficient in interpreting the data. Hence we have to assign them to price range- (0-100, 100-200 and so on) in order to plot it."
   ]
  },
  {
   "cell_type": "code",
   "execution_count": 20,
   "metadata": {},
   "outputs": [
    {
     "name": "stdout",
     "output_type": "stream",
     "text": [
      "999.99\n",
      "0.01\n"
     ]
    }
   ],
   "source": [
    "print(max(data['price']))\n",
    "print(min(data['price']))"
   ]
  },
  {
   "cell_type": "markdown",
   "metadata": {},
   "source": [
    "### Assigning bins/'grade' to each product depending on price range"
   ]
  },
  {
   "cell_type": "code",
   "execution_count": 21,
   "metadata": {},
   "outputs": [
    {
     "name": "stdout",
     "output_type": "stream",
     "text": [
      "2           (0, 100]\n",
      "3           (0, 100]\n",
      "4         (200, 300]\n",
      "5           (0, 100]\n",
      "6           (0, 100]\n",
      "7           (0, 100]\n",
      "8           (0, 100]\n",
      "10          (0, 100]\n",
      "11          (0, 100]\n",
      "13          (0, 100]\n",
      "15          (0, 100]\n",
      "16          (0, 100]\n",
      "18          (0, 100]\n",
      "19          (0, 100]\n",
      "20          (0, 100]\n",
      "22          (0, 100]\n",
      "23          (0, 100]\n",
      "24        (100, 200]\n",
      "25          (0, 100]\n",
      "26          (0, 100]\n",
      "28          (0, 100]\n",
      "29        (100, 200]\n",
      "30          (0, 100]\n",
      "35          (0, 100]\n",
      "37          (0, 100]\n",
      "38          (0, 100]\n",
      "41          (0, 100]\n",
      "42          (0, 100]\n",
      "43          (0, 100]\n",
      "44          (0, 100]\n",
      "             ...    \n",
      "498015      (0, 100]\n",
      "498151      (0, 100]\n",
      "498153      (0, 100]\n",
      "498156      (0, 100]\n",
      "498158      (0, 100]\n",
      "498159      (0, 100]\n",
      "498161    (100, 200]\n",
      "498163      (0, 100]\n",
      "498164      (0, 100]\n",
      "498165    (100, 200]\n",
      "498166      (0, 100]\n",
      "498167      (0, 100]\n",
      "498170      (0, 100]\n",
      "498171      (0, 100]\n",
      "498173      (0, 100]\n",
      "498174    (500, 600]\n",
      "498175    (100, 200]\n",
      "498182    (400, 500]\n",
      "498183      (0, 100]\n",
      "498185      (0, 100]\n",
      "498186    (400, 500]\n",
      "498187    (400, 500]\n",
      "498188      (0, 100]\n",
      "498189    (100, 200]\n",
      "498190    (100, 200]\n",
      "498191      (0, 100]\n",
      "498192      (0, 100]\n",
      "498193      (0, 100]\n",
      "498194      (0, 100]\n",
      "498195      (0, 100]\n",
      "Name: grade, Length: 389693, dtype: category\n",
      "Categories (10, interval[int64]): [(0, 100] < (100, 200] < (200, 300] < (300, 400] ... (600, 700] < (700, 800] < (800, 900] < (900, 1000]]\n"
     ]
    }
   ],
   "source": [
    "bins = [0, 100, 200, 300, 400, 500, 600, 700, 800, 900, 1000]\n",
    "group_names = ['1', '2', '3', '4', '5', '6' '7', '8', '9', '10']\n",
    "data['grade'] = pd.cut(data['price'], bins)\n",
    "print(data['grade'])\n",
    "\n"
   ]
  },
  {
   "cell_type": "markdown",
   "metadata": {},
   "source": [
    "### Plotting the cumulative price as histogram"
   ]
  },
  {
   "cell_type": "code",
   "execution_count": 22,
   "metadata": {},
   "outputs": [
    {
     "data": {
      "text/plain": [
       "<matplotlib.axes._subplots.AxesSubplot at 0x7f23f50feb38>"
      ]
     },
     "execution_count": 22,
     "metadata": {},
     "output_type": "execute_result"
    }
   ],
   "source": [
    "data['price'].hist()"
   ]
  },
  {
   "cell_type": "code",
   "execution_count": 23,
   "metadata": {
    "scrolled": true
   },
   "outputs": [
    {
     "data": {
      "image/png": "[encoded data removed]",
      "text/plain": [
       "<matplotlib.figure.Figure at 0x7f23f52b3e10>"
      ]
     },
     "metadata": {},
     "output_type": "display_data"
    }
   ],
   "source": [
    "plt.show()"
   ]
  },
  {
   "cell_type": "markdown",
   "metadata": {},
   "source": [
    "### Plotting the price (range) for products as bar chart"
   ]
  },
  {
   "cell_type": "code",
   "execution_count": 24,
   "metadata": {},
   "outputs": [
    {
     "name": "stdout",
     "output_type": "stream",
     "text": [
      "(0, 100]       334785\n",
      "(100, 200]      27578\n",
      "(200, 300]      10544\n",
      "(300, 400]       5913\n",
      "(400, 500]       3475\n",
      "(500, 600]       2421\n",
      "(600, 700]       1886\n",
      "(700, 800]       1317\n",
      "(800, 900]        949\n",
      "(900, 1000]       825\n",
      "Name: grade, dtype: int64\n",
      "<class 'pandas.core.series.Series'>\n"
     ]
    }
   ],
   "source": [
    "grade_count = data['grade'].value_counts()\n",
    "print(grade_count)\n",
    "print(type(grade_count))"
   ]
  },
  {
   "cell_type": "code",
   "execution_count": 25,
   "metadata": {},
   "outputs": [
    {
     "data": {
      "image/png": "[encoded data removed]",
      "text/plain": [
       "<matplotlib.figure.Figure at 0x7f23f4499860>"
      ]
     },
     "metadata": {},
     "output_type": "display_data"
    }
   ],
   "source": [
    "grade_count.plot('bar')\n",
    "plt.show()"
   ]
  },
  {
   "cell_type": "code",
   "execution_count": 26,
   "metadata": {},
   "outputs": [
    {
     "data": {
      "image/png": "[encoded data removed]",
      "text/plain": [
       "<matplotlib.figure.Figure at 0x7f23f5870860>"
      ]
     },
     "metadata": {},
     "output_type": "display_data"
    }
   ],
   "source": [
    "grade_count.plot('bar')\n",
    "fig = plt.plot()\n",
    "plt.tight_layout()\n",
    "plt.savefig('prices_bar_plot.png')\n",
    "plt.show()\n"
   ]
  },
  {
   "cell_type": "code",
   "execution_count": 27,
   "metadata": {},
   "outputs": [
    {
     "name": "stdout",
     "output_type": "stream",
     "text": [
      "389693\n",
      "<class 'numpy.int64'>\n"
     ]
    }
   ],
   "source": [
    "grade_count = data.grade.count()\n",
    "print(grade_count)\n",
    "print(type(grade_count))"
   ]
  },
  {
   "cell_type": "code",
   "execution_count": 28,
   "metadata": {},
   "outputs": [
    {
     "data": {
      "text/plain": [
       "<bound method IndexOpsMixin.value_counts of 2           (0, 100]\n",
       "3           (0, 100]\n",
       "4         (200, 300]\n",
       "5           (0, 100]\n",
       "6           (0, 100]\n",
       "7           (0, 100]\n",
       "8           (0, 100]\n",
       "10          (0, 100]\n",
       "11          (0, 100]\n",
       "13          (0, 100]\n",
       "15          (0, 100]\n",
       "16          (0, 100]\n",
       "18          (0, 100]\n",
       "19          (0, 100]\n",
       "20          (0, 100]\n",
       "22          (0, 100]\n",
       "23          (0, 100]\n",
       "24        (100, 200]\n",
       "25          (0, 100]\n",
       "26          (0, 100]\n",
       "28          (0, 100]\n",
       "29        (100, 200]\n",
       "30          (0, 100]\n",
       "35          (0, 100]\n",
       "37          (0, 100]\n",
       "38          (0, 100]\n",
       "41          (0, 100]\n",
       "42          (0, 100]\n",
       "43          (0, 100]\n",
       "44          (0, 100]\n",
       "             ...    \n",
       "498015      (0, 100]\n",
       "498151      (0, 100]\n",
       "498153      (0, 100]\n",
       "498156      (0, 100]\n",
       "498158      (0, 100]\n",
       "498159      (0, 100]\n",
       "498161    (100, 200]\n",
       "498163      (0, 100]\n",
       "498164      (0, 100]\n",
       "498165    (100, 200]\n",
       "498166      (0, 100]\n",
       "498167      (0, 100]\n",
       "498170      (0, 100]\n",
       "498171      (0, 100]\n",
       "498173      (0, 100]\n",
       "498174    (500, 600]\n",
       "498175    (100, 200]\n",
       "498182    (400, 500]\n",
       "498183      (0, 100]\n",
       "498185      (0, 100]\n",
       "498186    (400, 500]\n",
       "498187    (400, 500]\n",
       "498188      (0, 100]\n",
       "498189    (100, 200]\n",
       "498190    (100, 200]\n",
       "498191      (0, 100]\n",
       "498192      (0, 100]\n",
       "498193      (0, 100]\n",
       "498194      (0, 100]\n",
       "498195      (0, 100]\n",
       "Name: grade, Length: 389693, dtype: category\n",
       "Categories (10, interval[int64]): [(0, 100] < (100, 200] < (200, 300] < (300, 400] ... (600, 700] < (700, 800] < (800, 900] < (900, 1000]]>"
      ]
     },
     "execution_count": 28,
     "metadata": {},
     "output_type": "execute_result"
    }
   ],
   "source": [
    "data['grade'].value_counts"
   ]
  },
  {
   "cell_type": "markdown",
   "metadata": {},
   "source": [
    "## Feature Analysis: Brand"
   ]
  },
  {
   "cell_type": "code",
   "execution_count": 29,
   "metadata": {
    "collapsed": true
   },
   "outputs": [],
   "source": [
    "brand_categories = data['brand'].value_counts()"
   ]
  },
  {
   "cell_type": "code",
   "execution_count": 30,
   "metadata": {},
   "outputs": [
    {
     "name": "stdout",
     "output_type": "stream",
     "text": [
      "<class 'pandas.core.series.Series'>\n",
      "9960\n",
      "Unknown                     3401\n",
      "HP                          2110\n",
      "Sony                        2063\n",
      "Neewer                      2005\n",
      "Generic                     1864\n",
      "Monoprice                   1560\n",
      "Dell                        1481\n",
      "eForCity                    1318\n",
      "SIB                         1197\n",
      "StarTech                    1188\n",
      "                            1160\n",
      "Samsung                     1106\n",
      "Toshiba                     1096\n",
      "SIB-CORP                    1093\n",
      "BELKIN                      1075\n",
      "C2G                          936\n",
      "Pyle                         870\n",
      "Panasonic                    794\n",
      "Metra                        790\n",
      "Kingston                     778\n",
      "Tripp Lite                   763\n",
      "eForCity&amp;reg;            714\n",
      "Asus                         702\n",
      "Philips                      697\n",
      "Canon                        696\n",
      "Acer                         695\n",
      "Nikon                        682\n",
      "SanDisk                      663\n",
      "Lenovo                       645\n",
      "Scosche                      624\n",
      "                            ... \n",
      "Cesco                          1\n",
      "Trio                           1\n",
      "Sino-America                   1\n",
      "Legendary Games                1\n",
      "Ultimate                       1\n",
      "Folkmanis                      1\n",
      "RJ Lockdown                    1\n",
      "miniSquid                      1\n",
      "minidandan                     1\n",
      "Abeo                           1\n",
      "Informatics                    1\n",
      "SDN                            1\n",
      "Sea-Dog                        1\n",
      "Pelco                          1\n",
      "Connectronics                  1\n",
      "Barkan Mounts                  1\n",
      "Daytona Helmets                1\n",
      "SoundBender                    1\n",
      "USA111                         1\n",
      "PhotoBert                      1\n",
      "J&amp;K Outdoor Products       1\n",
      "ClickSnap                      1\n",
      "MotoBrackets                   1\n",
      "Garrett                        1\n",
      "DataCal Enterprises, LLC       1\n",
      "Zykkor                         1\n",
      "Super Buddy                    1\n",
      "GrippIt                        1\n",
      "NETIS SYSTEMS USA CORP.        1\n",
      "myTunes                        1\n",
      "Name: brand, Length: 9960, dtype: int64\n"
     ]
    }
   ],
   "source": [
    "print(type(brand_categories))\n",
    "print(len(brand_categories))\n",
    "print(brand_categories)"
   ]
  },
  {
   "cell_type": "markdown",
   "metadata": {},
   "source": [
    "### finding out the top 10 brands ( excluding unknown)"
   ]
  },
  {
   "cell_type": "code",
   "execution_count": 31,
   "metadata": {},
   "outputs": [
    {
     "name": "stdout",
     "output_type": "stream",
     "text": [
      "Unknown      3401\n",
      "HP           2110\n",
      "Sony         2063\n",
      "Neewer       2005\n",
      "Generic      1864\n",
      "Monoprice    1560\n",
      "Dell         1481\n",
      "eForCity     1318\n",
      "SIB          1197\n",
      "StarTech     1188\n",
      "             1160\n",
      "Name: brand, dtype: int64\n"
     ]
    }
   ],
   "source": [
    "print(brand_categories[:11])"
   ]
  },
  {
   "cell_type": "code",
   "execution_count": 32,
   "metadata": {},
   "outputs": [
    {
     "name": "stdout",
     "output_type": "stream",
     "text": [
      "<class 'pandas.core.series.Series'>\n"
     ]
    }
   ],
   "source": [
    "print(type(brand_categories))"
   ]
  },
  {
   "cell_type": "code",
   "execution_count": 34,
   "metadata": {},
   "outputs": [
    {
     "data": {
      "image/png": "[encoded data removed]",
      "text/plain": [
       "<matplotlib.figure.Figure at 0x7f23fb400198>"
      ]
     },
     "metadata": {},
     "output_type": "display_data"
    }
   ],
   "source": [
    "brand_categories[1:10].plot(kind=\"bar\")\n",
    "fig = plt.plot()\n",
    "plt.tight_layout()\n",
    "plt.savefig('brands_plot.png')\n",
    "plt.show()"
   ]
  }
 ],
 "metadata": {
  "kernelspec": {
   "display_name": "Python 3",
   "language": "python",
   "name": "python3"
  },
  "language_info": {
   "codemirror_mode": {
    "name": "ipython",
    "version": 3
   },
   "file_extension": ".py",
   "mimetype": "text/x-python",
   "name": "python",
   "nbconvert_exporter": "python",
   "pygments_lexer": "ipython3",
   "version": "3.5.2"
  }
 },
 "nbformat": 4,
 "nbformat_minor": 2
}
